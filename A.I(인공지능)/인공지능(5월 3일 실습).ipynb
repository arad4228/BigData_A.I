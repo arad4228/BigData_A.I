{
  "nbformat": 4,
  "nbformat_minor": 0,
  "metadata": {
    "colab": {
      "name": "인공지능(5월 3일  실습).ipynb",
      "provenance": [],
      "authorship_tag": "ABX9TyNlJrAPgy0jwyrX8ObMvOvn",
      "include_colab_link": true
    },
    "kernelspec": {
      "name": "python3",
      "display_name": "Python 3"
    },
    "language_info": {
      "name": "python"
    }
  },
  "cells": [
    {
      "cell_type": "markdown",
      "metadata": {
        "id": "view-in-github",
        "colab_type": "text"
      },
      "source": [
        "<a href=\"https://colab.research.google.com/github/arad4228/BigData_and_A.I/blob/main/%EC%9D%B8%EA%B3%B5%EC%A7%80%EB%8A%A5(5%EC%9B%94_3%EC%9D%BC_%EC%8B%A4%EC%8A%B5).ipynb\" target=\"_parent\"><img src=\"https://colab.research.google.com/assets/colab-badge.svg\" alt=\"Open In Colab\"/></a>"
      ]
    },
    {
      "cell_type": "markdown",
      "source": [
        "# 단순히 numpy를 통한 학습"
      ],
      "metadata": {
        "id": "DetTW_0UqNkJ"
      }
    },
    {
      "cell_type": "code",
      "execution_count": 30,
      "metadata": {
        "id": "sMFva2twOr2q"
      },
      "outputs": [],
      "source": [
        "import numpy as np"
      ]
    },
    {
      "cell_type": "code",
      "source": [
        "N, Din, Dout = 64, 4,2"
      ],
      "metadata": {
        "id": "MCzkUFESO0_F"
      },
      "execution_count": 31,
      "outputs": []
    },
    {
      "cell_type": "code",
      "source": [
        "x = np.random.randn(N, Din)\n",
        "y = np.random.randn(N, Dout)\n",
        "w = np.random.randn(Din, Dout)"
      ],
      "metadata": {
        "id": "KHL3OBRCO4Kt"
      },
      "execution_count": 32,
      "outputs": []
    },
    {
      "cell_type": "code",
      "source": [
        "lr = 1e-5\n",
        "loss_arr = []"
      ],
      "metadata": {
        "id": "b_g0OpVcPGmd"
      },
      "execution_count": 33,
      "outputs": []
    },
    {
      "cell_type": "code",
      "source": [
        "for t in range(5000):\n",
        "  y_pred = np.matmul(x,w)\n",
        "\n",
        "  loss = (0.5*(y_pred - y)**2).sum()\n",
        "  loss_arr.append(loss)\n",
        "\n",
        "  grad_y_pred = (y_pred - y)\n",
        "  grad_w = np.matmul(np.transpose(x),grad_y_pred)\n",
        "\n",
        "  w -= lr * grad_w"
      ],
      "metadata": {
        "id": "qP1QV47lPKoV"
      },
      "execution_count": 34,
      "outputs": []
    },
    {
      "cell_type": "code",
      "source": [
        "import matplotlib.pyplot as plt\n",
        "\n",
        "plt.plot(loss_arr)"
      ],
      "metadata": {
        "colab": {
          "base_uri": "https://localhost:8080/",
          "height": 283
        },
        "id": "1K4tfY3zPmPh",
        "outputId": "1b33ecf7-a99c-43ef-daa8-d7365d93305a"
      },
      "execution_count": 35,
      "outputs": [
        {
          "output_type": "execute_result",
          "data": {
            "text/plain": [
              "[<matplotlib.lines.Line2D at 0x7fee797f6490>]"
            ]
          },
          "metadata": {},
          "execution_count": 35
        },
        {
          "output_type": "display_data",
          "data": {
            "text/plain": [
              "<Figure size 432x288 with 1 Axes>"
            ],
            "image/png": "[encoded data removed]"
          },
          "metadata": {
            "needs_background": "light"
          }
        }
      ]
    },
    {
      "cell_type": "markdown",
      "source": [
        "# pythorch를 통한 학습\n"
      ],
      "metadata": {
        "id": "u8QkSPfZqMAA"
      }
    },
    {
      "cell_type": "code",
      "source": [
        "import torch\n",
        "device = torch.device('cpu')\n",
        "\n",
        "N, Din, Dout = 64, 4, 2\n",
        "\n",
        "x = torch.randn(N, Din, device = device)\n",
        "y = torch.randn(N, Dout, device = device)\n",
        "w = torch.randn(Din,Dout, device = device)"
      ],
      "metadata": {
        "id": "WS-qIbl5qa_0"
      },
      "execution_count": 37,
      "outputs": []
    },
    {
      "cell_type": "code",
      "source": [
        "lr = 1e-6\n",
        "loss_arr2 = []"
      ],
      "metadata": {
        "id": "wSUNFjESrAQo"
      },
      "execution_count": 38,
      "outputs": []
    },
    {
      "cell_type": "code",
      "source": [
        "for t in range(5000):\n",
        "  y_pred = x.mm(w)\n",
        "\n",
        "  loss = 0.5* (y_pred - y).pow(2).sum()\n",
        "  loss_arr2.append(loss)\n",
        "\n",
        "  grad_y_pred = (y_pred - y)\n",
        "  grad_w = x.t().mm(grad_y_pred)\n",
        "\n",
        "  w -= lr * grad_w"
      ],
      "metadata": {
        "id": "dBsjREJGrK2I"
      },
      "execution_count": 39,
      "outputs": []
    },
    {
      "cell_type": "code",
      "source": [
        "import matplotlib.pyplot as plt\n",
        "\n",
        "plt.plot(loss_arr2)"
      ],
      "metadata": {
        "colab": {
          "base_uri": "https://localhost:8080/",
          "height": 283
        },
        "id": "JBOaBPiBsTpF",
        "outputId": "498f862a-2f12-44cb-d250-6db94865274c"
      },
      "execution_count": 40,
      "outputs": [
        {
          "output_type": "execute_result",
          "data": {
            "text/plain": [
              "[<matplotlib.lines.Line2D at 0x7fee79764f10>]"
            ]
          },
          "metadata": {},
          "execution_count": 40
        },
        {
          "output_type": "display_data",
          "data": {
            "text/plain": [
              "<Figure size 432x288 with 1 Axes>"
            ],
            "image/png": "[encoded data removed]"
          },
          "metadata": {
            "needs_background": "light"
          }
        }
      ]
    },
    {
      "cell_type": "markdown",
      "source": [
        "# 개선(autograd)"
      ],
      "metadata": {
        "id": "A6IEz2rmrqrP"
      }
    },
    {
      "cell_type": "code",
      "source": [
        "import torch\n",
        "device = torch.device('cpu')\n",
        "\n",
        "N, Din, Dout = 64, 4, 2\n",
        "\n",
        "x = torch.randn(N, Din, device = device)\n",
        "y = torch.randn(N, Dout, device = device)\n",
        "w = torch.randn(Din,Dout, device = device, requires_grad=True)"
      ],
      "metadata": {
        "id": "t1LJVaA-rmFJ"
      },
      "execution_count": 50,
      "outputs": []
    },
    {
      "cell_type": "code",
      "source": [
        "lr = 1e-6"
      ],
      "metadata": {
        "id": "d_6YosReskx_"
      },
      "execution_count": 51,
      "outputs": []
    },
    {
      "cell_type": "code",
      "source": [
        "for t in range(5000):\n",
        "  y_pred = x.mm(w)\n",
        "\n",
        "  loss = 0.5 * (y_pred - y).pow(2).sum()\n",
        "\n",
        "  loss.backward ()\n",
        "\n",
        "  with torch.no_grad():\n",
        "    w -= lr *w.grad\n",
        "    w.grad.zero_()"
      ],
      "metadata": {
        "id": "hhruHLOrsseE"
      },
      "execution_count": 52,
      "outputs": []
    },
    {
      "cell_type": "markdown",
      "source": [
        "# 개선 (nn library)"
      ],
      "metadata": {
        "id": "Z_r46YegucqN"
      }
    },
    {
      "cell_type": "code",
      "source": [
        "import torch\n",
        "device = torch.device('cpu')\n",
        "\n",
        "N, Din, Dout = 64, 4, 2\n",
        "\n",
        "x = torch.randn(N, Din, device = device)\n",
        "y = torch.randn(N, Dout, device = device)"
      ],
      "metadata": {
        "id": "nFLisS0Cs9vC"
      },
      "execution_count": 55,
      "outputs": []
    },
    {
      "cell_type": "code",
      "source": [
        "model = torch.nn.Sequential (\n",
        "    torch.nn.Linear(Din, Dout))"
      ],
      "metadata": {
        "id": "UCcP8_NotAWs"
      },
      "execution_count": 57,
      "outputs": []
    },
    {
      "cell_type": "code",
      "source": [
        "lr = 1e-6"
      ],
      "metadata": {
        "id": "ZqJYm37Du2Lr"
      },
      "execution_count": 58,
      "outputs": []
    },
    {
      "cell_type": "code",
      "source": [
        "for t in range(5000):\n",
        "  y_pred = model(x)\n",
        "\n",
        "  loss = torch.nn.functional.mse_loss (y_pred, y)\n",
        "\n",
        "  loss.backward ()\n",
        "\n",
        "  with torch.no_grad():\n",
        "    for param in model.parameters ():\n",
        "      param -= lr * param.grad\n",
        "    model.zero_grad()"
      ],
      "metadata": {
        "id": "tA1JLWHTu64N"
      },
      "execution_count": 63,
      "outputs": []
    },
    {
      "cell_type": "markdown",
      "source": [
        "# 개션 (Optimizer)"
      ],
      "metadata": {
        "id": "ecEWhjKQvu3m"
      }
    },
    {
      "cell_type": "code",
      "source": [
        "import torch\n",
        "device = torch.device('cpu')\n",
        "\n",
        "N, Din, Dout = 64, 4, 2\n",
        "\n",
        "x = torch.randn(N, Din, device = device)\n",
        "y = torch.randn(N, Dout, device = device)"
      ],
      "metadata": {
        "id": "6PqUBihYvlgH"
      },
      "execution_count": 76,
      "outputs": []
    },
    {
      "cell_type": "code",
      "source": [
        "model = torch.nn.Sequential (\n",
        "    torch.nn.Linear(Din, Dout))"
      ],
      "metadata": {
        "id": "Sk7Y4viavdN9"
      },
      "execution_count": 77,
      "outputs": []
    },
    {
      "cell_type": "code",
      "source": [
        "lr = 1e-6"
      ],
      "metadata": {
        "id": "nm4eN9G-vgCM"
      },
      "execution_count": 78,
      "outputs": []
    },
    {
      "cell_type": "code",
      "source": [
        "optimizer = torch.optim.Adam(model.parameters(), lr = lr)"
      ],
      "metadata": {
        "id": "0a_9IhfCv5W6"
      },
      "execution_count": 81,
      "outputs": []
    },
    {
      "cell_type": "code",
      "source": [
        "for t in range(5000):\n",
        "  y_pred = model(x)\n",
        "\n",
        "  loss = torch.nn.functional.mse_loss (y_pred, y)\n",
        "\n",
        "  loss.backward ()\n",
        "\n",
        " optimizer.step()\n",
        " optimizer.zero_grad()"
      ],
      "metadata": {
        "id": "d8nmAfr5wD_Y"
      },
      "execution_count": null,
      "outputs": []
    },
    {
      "cell_type": "markdown",
      "source": [
        "# 개선 (nn.model, Model을 class로 정의)"
      ],
      "metadata": {
        "id": "4uAUGYBsw7wS"
      }
    },
    {
      "cell_type": "code",
      "source": [
        "import torch\n",
        "\n",
        "device = torch.device('cpu')\n",
        "\n",
        "class MyOneLaterNet( torch.nn.Model ):\n",
        "  def __init__(self, Din, Dout):\n",
        "    super(MyOneLaterNet, self).__init__ ()\n",
        "    self.linear = torch.nn.Linear(Din, Dout)\n",
        "\n",
        "  def forward (self, x):\n",
        "    y_pred = self.linear(x)\n",
        "    return y_pred\n"
      ],
      "metadata": {
        "id": "DYrejbGewa8f"
      },
      "execution_count": null,
      "outputs": []
    },
    {
      "cell_type": "code",
      "source": [
        "N, Din, Dout = 64, 4, 2\n",
        "\n",
        "x = torch.randn(N, Din, device = device)\n",
        "y = torch.randn(N, Dout, device = device)"
      ],
      "metadata": {
        "id": "GYlHq6pDxOVR"
      },
      "execution_count": 89,
      "outputs": []
    },
    {
      "cell_type": "code",
      "source": [
        "model = MyOneLaterNet (Din, Dout)\n",
        "optimizer = torch.optim.Adam(model.parameters(), lr = 1e-6)"
      ],
      "metadata": {
        "id": "mIFe3wwMyKs_"
      },
      "execution_count": null,
      "outputs": []
    },
    {
      "cell_type": "code",
      "source": [
        "for t in range(5000):\n",
        "  y_pred = model(x)\n",
        "\n",
        "  loss = torch.nn.functional.mse_loss (y_pred, y)\n",
        "\n",
        "  loss.backward ()\n",
        "\n",
        " optimizer.step()\n",
        " optimizer.zero_grad()"
      ],
      "metadata": {
        "id": "PqTr-CjbyXto"
      },
      "execution_count": null,
      "outputs": []
    },
    {
      "cell_type": "code",
      "source": [
        "import numpy as np\n",
        "import tensorflow as tf\n",
        "N, Din, Dout = 64, 4, 2"
      ],
      "metadata": {
        "id": "4r8KNK0pybft"
      },
      "execution_count": 98,
      "outputs": []
    },
    {
      "cell_type": "code",
      "source": [
        "x = tf.placeholder(tf.float32, shape=(N, Din))\n",
        "y = tf.placeholder(tf.float32, shape=(N, Dout))\n",
        "w = tf.placeholder(tf.float32, shape=(Din, Dout))"
      ],
      "metadata": {
        "id": "7dtIACnqykJH"
      },
      "execution_count": null,
      "outputs": []
    },
    {
      "cell_type": "code",
      "source": [
        "y_pred = tf.matmul(w,x)\n",
        "diff = y_pred - y\n",
        "loss = tf.reduce_mean\n",
        "          (tf.reduce_sum (diff**2, axis=1))\n",
        "\n",
        "grad_w = tf.gradients(loss, [w])\n"
      ],
      "metadata": {
        "id": "PNTvbnoxyxS2"
      },
      "execution_count": null,
      "outputs": []
    },
    {
      "cell_type": "code",
      "source": [
        "with tf.Session() as Sess:\n",
        "  values = {x: np.random.randn(N,Din),\n",
        "            y: np.random.randn(N,Dout),\n",
        "            w: np.random.randn(Din,Dout),}\n",
        "  \n",
        "  out = sess.run([loss, grad_w],\n",
        "                 feed_dict=values)\n",
        "  loss_val, grad_w_val = out"
      ],
      "metadata": {
        "id": "sP_pHySFzi-a"
      },
      "execution_count": null,
      "outputs": []
    }
  ]
}