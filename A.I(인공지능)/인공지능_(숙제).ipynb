{
  "nbformat": 4,
  "nbformat_minor": 0,
  "metadata": {
    "colab": {
      "name": "인공지능 (숙제)",
      "provenance": [],
      "collapsed_sections": [],
      "authorship_tag": "ABX9TyM4EoEHW7mSEsbstcNKM2dU",
      "include_colab_link": true
    },
    "kernelspec": {
      "name": "python3",
      "display_name": "Python 3"
    },
    "language_info": {
      "name": "python"
    }
  },
  "cells": [
    {
      "cell_type": "markdown",
      "metadata": {
        "id": "view-in-github",
        "colab_type": "text"
      },
      "source": [
        "<a href=\"https://colab.research.google.com/github/arad4228/BigData_and_A.I/blob/main/%EC%9D%B8%EA%B3%B5%EC%A7%80%EB%8A%A5_(%EC%88%99%EC%A0%9C).ipynb\" target=\"_parent\"><img src=\"https://colab.research.google.com/assets/colab-badge.svg\" alt=\"Open In Colab\"/></a>"
      ]
    },
    {
      "cell_type": "markdown",
      "source": [
        "# 다변수 선형 회귀에 대한 과제"
      ],
      "metadata": {
        "id": "UlmpOYzLStus"
      }
    },
    {
      "cell_type": "markdown",
      "source": [
        "**1.** nbastat.csv에서 야투 시도 횟수(FGA), 3점슛 시도 횟수(3PA), 자유투 시도 횟수(FTA)로 부터 득점수(PTS)를 예측하는 모델을 만들고 이를 훈련하라."
      ],
      "metadata": {
        "id": "dW0ayXScS8pE"
      }
    },
    {
      "cell_type": "code",
      "source": [
        "# 각종 라이브러리 호출\n",
        "import numpy as np\n",
        "import pandas as pd\n",
        "from google.colab import drive"
      ],
      "metadata": {
        "id": "uxEjHvfMTQot"
      },
      "execution_count": 1,
      "outputs": []
    },
    {
      "cell_type": "code",
      "source": [
        "# 구글 드라이브에 마운트\n",
        "drive.mount ('/smuai')"
      ],
      "metadata": {
        "colab": {
          "base_uri": "https://localhost:8080/"
        },
        "id": "KvoYKwOCTZl1",
        "outputId": "70c8712a-4f76-4b21-a4a2-a09fb70ab34a"
      },
      "execution_count": 2,
      "outputs": [
        {
          "output_type": "stream",
          "name": "stdout",
          "text": [
            "Mounted at /smuai\n"
          ]
        }
      ]
    },
    {
      "cell_type": "code",
      "source": [
        "# 파일을 업로드 하기\n",
        "from google.colab import files\n",
        "files.upload()"
      ],
      "metadata": {
        "colab": {
          "resources": {
            "http://localhost:8080/nbextensions/google.colab/files.js": {
              "data": "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",
              "ok": true,
              "headers": [
                [
                  "content-type",
                  "application/javascript"
                ]
              ],
              "status": 200,
              "status_text": ""
            }
          },
          "base_uri": "https://localhost:8080/",
          "height": 112
        },
        "id": "KkB1-tMHTdGi",
        "outputId": "08cc3c20-a414-438a-ee04-207a7b0e8866"
      },
      "execution_count": 4,
      "outputs": [
        {
          "output_type": "display_data",
          "data": {
            "text/plain": [
              "<IPython.core.display.HTML object>"
            ],
            "text/html": [
              "\n",
              "     <input type=\"file\" id=\"files-4ec28af4-6c2e-4b09-bb22-fff33808ccc8\" name=\"files[]\" multiple disabled\n",
              "        style=\"border:none\" />\n",
              "     <output id=\"result-4ec28af4-6c2e-4b09-bb22-fff33808ccc8\">\n",
              "      Upload widget is only available when the cell has been executed in the\n",
              "      current browser session. Please rerun this cell to enable.\n",
              "      </output>\n",
              "      <script src=\"/nbextensions/google.colab/files.js\"></script> "
            ]
          },
          "metadata": {}
        },
        {
          "output_type": "stream",
          "name": "stdout",
          "text": [
            "Saving nbastat2022.csv to nbastat2022.csv\n"
          ]
        },
        {
          "output_type": "execute_result",
          "data": {
            "text/plain": [
              "{'nbastat2022.csv': b\"#,PLAYER,GP,MIN,PTS,FGM,FGA,FG%,3PM,3PA,3P%,FTM,FTA,FT%,OREB,DREB,REB,AST,STL,BLK,TOV,EF\\r\\n1,Joel Embiid,56,33.4,29.9,9.4,19.3,48.9,1.4,3.7,36.5,9.8,11.9,82.1,2.1,9.3,11.4,4.4,1,1.4,3,33.2\\r\\n2,Giannis Antetokounmpo,59,32.9,29.8,10.2,18.6,54.7,1.1,3.7,30,8.3,11.6,72.1,2,9.5,11.5,5.8,1.1,1.4,3.2,34.8\\r\\n3,LeBron James,51,36.9,29.5,11.1,21.3,52,2.8,8,35.7,4.5,6,76,1.1,7,8.1,6.2,1.4,1.1,3.5,31.1\\r\\n4,Luka Doncic,53,35.7,28.2,9.9,21.8,45.5,2.9,8.5,34.1,5.5,7.4,74.4,0.9,8.4,9.3,8.6,1.2,0.6,4.5,29.6\\r\\n5,Trae Young,64,34.9,28,9.3,20.4,45.6,3,7.8,38,6.5,7.2,90,0.6,3.2,3.8,9.5,1,0.1,4,26.7\\r\\n6,DeMar DeRozan,65,36.1,27.9,10.2,20.2,50.4,0.6,1.8,35.6,6.9,7.9,87.1,0.8,4.6,5.4,5.2,0.9,0.3,2.4,26.3\\r\\n7,Ja Morant,55,33.3,27.5,10.2,20.7,49.3,1.6,4.6,34.1,5.5,7.3,76.2,1.3,4.4,5.8,6.7,1.2,0.4,3.4,26\\r\\n8,Jayson Tatum,66,36.4,26.7,9.2,21,43.9,2.9,8.6,33.7,5.4,6.3,85.4,1.2,7.1,8.3,4.2,1,0.7,2.8,25.3\\r\\n9,Nikola Jokic,63,33,26,9.9,17.2,57.4,1.5,4.1,35.4,4.8,6,80.8,2.7,11,13.8,8.1,1.4,0.8,3.7,37.8\\r\\n10,Devin Booker,59,34.3,25.8,9.5,20.7,45.6,2.7,7.3,37.6,4.2,4.8,86.6,0.7,4.4,5.1,4.9,1.2,0.4,2.4,23.1\\r\\n11,Donovan Mitchell,57,33.6,25.7,9.2,20.5,45.1,3.5,9.9,35.9,3.7,4.4,84.1,0.8,3.3,4.1,5.5,1.5,0.2,3,22.1\\r\\n12,Stephen Curry,64,34.5,25.5,8.4,19.1,43.7,4.5,11.7,38,4.3,4.7,92.3,0.5,4.7,5.2,6.3,1.3,0.4,3.2,24.4\\r\\n13,Karl-Anthony Towns,64,33.5,24.9,8.8,16.5,52.9,2,5,40.8,5.4,6.5,82.5,2.6,7.2,9.9,3.7,1,1.2,3.1,28.5\\r\\n14,Zach LaVine,56,34.8,24.8,8.8,18.1,48.2,2.9,7.2,39.6,4.4,5.1,86.1,0.3,4.5,4.8,4.5,0.6,0.4,2.7,22.3\\r\\n15,Shai Gilgeous-Alexander,54,34.7,24.3,8.4,18.7,45,1.6,5.4,29.1,5.9,7.3,81,0.7,4.3,5,5.9,1.3,0.8,2.8,22.9\\r\\n16,De'Aaron Fox,59,35.3,23.2,8.7,18.5,47.3,1.3,4.2,29.7,4.4,5.9,75,0.4,3.5,3.9,5.6,1.2,0.4,2.8,20.2\\r\\n17,Jaylen Brown,55,33.8,22.9,8.4,18.4,45.7,2.5,7.3,33.8,3.7,4.8,76.1,0.8,5.3,6.2,3.4,1,0.3,2.8,19.9\\r\\n18,Brandon Ingram,50,34.2,22.8,8.4,18.2,46.2,1.4,4.3,33.5,4.5,5.5,81.6,0.7,5,5.7,5.5,0.6,0.5,2.7,21.6\\r\\n19,James Harden,53,37.1,22.5,6.5,15.6,41.6,2.3,6.9,33.8,7.2,8.3,87.2,0.9,6.9,7.8,10.2,1.3,0.6,4.5,27.7\\r\\n20,CJ McCollum,49,35.2,22.1,8.7,18.9,46.2,3.1,7.9,38.9,1.6,2.4,69,1,3.6,4.6,5.1,1,0.4,2.1,20.4\\r\\n21,Pascal Siakam,56,37.6,22,8.4,17.3,48.6,1.1,3.1,35.8,4.1,5.4,74.4,2,6.4,8.4,5.1,1.3,0.6,2.7,24.4\\r\\n22,Darius Garland,55,35.2,21.2,7.9,16.8,46.8,2.6,6.8,37.7,2.9,3.1,91.3,0.6,2.8,3.4,8.3,1.2,0.1,3.9,21.1\\r\\n23,Fred VanVleet,56,38.1,21.1,7,17.1,41.1,3.9,10,39,3.1,3.6,87,0.7,3.9,4.6,6.7,1.6,0.5,2.7,21.2\\r\\n24,Anthony Edwards,61,34.3,21,7.5,17.4,43.1,3,8.5,35.1,3.1,4,77.6,0.9,3.8,4.7,3.7,1.5,0.7,2.7,18.2\\r\\n25,Tyler Herro,57,32.8,21,7.7,17.4,44.3,2.7,6.8,39.3,3,3.4,86.7,0.5,4.3,4.8,3.8,0.7,0.1,2.6,17.7\\r\\n26,Dejounte Murray,61,34.7,20.9,8.5,18.2,46.4,1.3,4.1,31.6,2.7,3.4,78.6,1.2,7.1,8.4,9.4,2.1,0.3,2.6,28\\r\\n27,Khris Middleton,58,32.5,20.5,6.9,15.5,44.7,2.5,6.5,38,4.1,4.6,89.2,0.6,4.7,5.3,5.4,1.1,0.3,2.9,20.7\\r\\n28,Julius Randle,67,35.5,20.4,7.2,17.3,41.8,1.7,5.3,31.3,4.3,5.6,77,1.7,8.1,9.9,5.2,0.8,0.6,3.4,22\\r\\n29,Miles Bridges,68,36,20,7.4,15.3,48.5,1.9,5.8,32,3.3,4.1,80.5,1.1,5.9,7,3.8,1,0.9,1.9,22.1\\r\\n30,LaMelo Ball,63,32.1,19.7,7,16.6,42,2.7,7.2,37.1,3,3.5,86.9,1.5,5.3,6.9,7.4,1.5,0.4,3.2,22.6\\r\\n31,Terry Rozier,61,34,19.7,7.2,16.3,44.3,3.1,8.3,37.8,2.1,2.6,84,0.8,3.6,4.3,4.4,1.3,0.3,1.3,19.3\\r\\n32,RJ Barrett,58,34.1,19.5,6.8,16.5,41.5,2,5.7,35.1,3.8,5.4,71.1,0.8,4.9,5.7,2.9,0.6,0.3,2.1,15.7\\r\\n33,Domantas Sabonis,60,34.5,18.7,7.1,12.4,57.2,0.6,2.1,30.1,3.9,5.3,74.1,3.2,8.8,12,5.2,0.9,0.4,3.2,27.5\\r\\n34,D'Angelo Russell,56,32.2,18.6,6.4,15.3,41.4,2.9,8.2,34.7,3,3.7,82.4,0.4,3,3.4,7.1,1,0.4,2.6,18.3\\r\\n35,Jrue Holiday,57,33.3,18.5,7.2,14.4,50.2,2,4.7,41.6,2.1,2.7,76.3,1.1,3.5,4.6,6.7,1.6,0.5,2.8,21.2\\r\\n36,Gary Trent Jr.,60,34.7,18.1,6.4,15.5,41,3,8,37.7,2.4,2.9,83.8,0.4,2.4,2.8,2,1.8,0.3,1,14.4\\r\\n37,Bojan Bogdanovic,64,30.9,18.1,6.2,13.4,45.8,2.7,6.8,39.2,3.1,3.6,87,0.9,3.4,4.3,1.7,0.4,0,1.7,15.1\\r\\n38,Nikola Vucevic,61,33.6,18,7.6,16.1,47.4,1.4,4.7,30.4,1.2,1.6,76,1.9,9.5,11.5,3.4,1,1.1,1.9,24\\r\\n39,Russell Westbrook,68,34.3,17.9,6.8,15.7,43.2,0.9,3.3,27.7,3.5,5.2,67,1.4,6,7.4,7,1,0.3,3.8,19.2\\r\\n40,Jonas Valanciunas,63,30.7,17.9,6.9,12.9,53.6,0.8,2.3,36.1,3.2,3.9,82.2,3.1,8.3,11.4,2.5,0.5,0.9,2.4,24\\r\\n41,Tobias Harris,59,35.4,17.9,7,14.5,48,1.3,3.6,36,2.7,3.2,84.9,1.1,5.9,7,3.4,0.6,0.6,1.6,19.9\\r\\n42,Desmond Bane,66,30,17.9,6.6,14.5,45.4,2.9,7,41.8,1.8,2,89.3,0.6,3.9,4.5,2.6,1.1,0.4,1.5,16.9\\r\\n43,Christian Wood,62,31,17.7,6.4,13.1,49.1,1.8,4.9,37.6,3,5,61.2,1.8,8.4,10.1,2.2,0.8,1,1.8,21.4\\r\\n44,Tyrese Maxey,61,35.8,17.4,6.4,13.3,48.3,1.6,3.8,41.2,2.9,3.4,86.1,0.3,3.1,3.4,4.3,0.7,0.4,1.1,17.8\\r\\n45,Anfernee Simons,57,29.5,17.3,6.2,14,44.3,3.1,7.8,40.5,1.8,2,88.8,0.5,2.2,2.6,3.9,0.5,0.1,2,14.5\\r\\n46,Andrew Wiggins,62,31.8,17.3,6.6,14,47,2.2,5.5,40.1,1.9,3,63,1.1,3.3,4.4,2.3,1.1,0.8,1.5,15.8\\r\\n47,Luguentz Dort,51,32.6,17.2,5.7,14.2,40.4,2.5,7.7,33.2,3.2,3.7,84.3,0.7,3.4,4.2,1.7,0.9,0.4,1.7,13.5\\r\\n48,Cole Anthony,57,32.6,17.2,5.8,14.7,39.4,2.1,6.3,34,3.5,4.1,85.7,0.5,5.1,5.6,5.7,0.8,0.3,2.7,17.3\\r\\n49,Reggie Jackson,67,31.3,17.1,6.5,16.4,39.6,2.3,7,33.5,1.9,2.2,83.2,0.6,3.2,3.7,4.9,0.7,0.2,2.3,14.1\\r\\n50,Jordan Poole,64,29,17.1,5.9,12.9,45.6,2.5,7,36.1,2.9,3.1,91.5,0.4,2.7,3.1,3.6,0.9,0.3,2.3,15.5\\r\\n51,Kyle Kuzma,65,33.4,17.1,6.4,14.1,45.4,1.9,5.6,33.9,2.4,3.3,71.6,1.1,7.5,8.6,3.4,0.6,0.9,2.5,19.4\\r\\n52,Harrison Barnes,66,33.9,17,5.2,10.9,47.3,1.9,4.7,41.4,4.8,5.7,83.3,1.1,4.7,5.8,2.5,0.7,0.2,1.6,18\\r\\n53,Deandre Ayton,49,29.4,17,7.6,11.8,64.3,0.1,0.3,33.3,1.8,2.4,73.1,2.5,7.4,9.9,1.4,0.7,0.7,1.5,23.4\\r\\n54,Cade Cunningham,54,32.5,16.9,6.5,16,40.5,1.9,6,32.1,2.1,2.4,85.4,0.9,4.9,5.9,5.3,1.1,0.6,3.5,16.5\\r\\n55,Jaren Jackson Jr.,69,27.5,16.4,5.6,13.4,41.7,1.6,5.1,31.4,3.6,4.5,80.8,1.6,4.3,5.9,1,1,2.2,1.6,16.3\\r\\n56,Keldon Johnson,64,31.7,16.4,6.1,13.1,46.8,2,4.9,41.1,2.1,2.9,74.5,1.1,5,6.1,1.9,0.7,0.1,1.2,16.3\\r\\n57,Saddiq Bey,70,33.8,16.3,5.6,14,39.8,2.6,7.5,35.1,2.6,3.1,81.8,1.4,4.4,5.8,2.9,0.8,0.2,1.3,15.8\\r\\n58,John Collins,54,30.8,16.2,6.3,11.9,52.6,1.2,3.3,36.4,2.5,3.1,79.3,1.7,6.1,7.8,1.8,0.6,1,1.1,20.1\\r\\n59,Jarrett Allen,56,32.3,16.1,6.6,9.7,67.7,0,0.2,10,2.9,4.2,70.8,3.4,7.3,10.8,1.6,0.8,1.3,1.7,24.6\\r\\n60,Jalen Brunson,66,32.2,16,6.4,12.8,50.1,1.2,3.1,38,2,2.5,82.2,0.5,3.2,3.8,5.2,0.9,0,1.7,17.3\\r\\n61,Jordan Clarkson,66,26.4,16,5.8,14,41.7,2.4,7.7,31.8,1.8,2.2,84.5,0.8,2.5,3.3,2.2,0.8,0.2,1.6,12.4\\r\\n62,Kelly Oubre Jr.,64,27.6,15.8,5.7,13.1,43.7,2.7,7.7,34.4,1.7,2.6,66.5,1.1,2.9,4,1.2,1.1,0.4,1,13.3\\r\\n63,Jalen Green,54,31.1,15.8,5.5,13.3,41.5,2.1,6.4,32.6,2.6,3.3,79.9,0.5,2.6,3.1,2.6,0.7,0.2,2.1,11.9\\r\\n64,Rudy Gobert,54,32,15.4,5.5,7.8,71.1,0,0,0,4.4,6.4,69,3.6,11.2,14.8,1.1,0.7,2.2,1.8,28.3\\r\\n65,Franz Wagner,71,31.6,15.4,5.9,12.5,46.7,1.3,3.5,36.5,2.4,2.8,85,1.1,3.6,4.6,2.9,0.9,0.4,1.6,15.6\\r\\n66,Buddy Hield,69,30.5,15.4,5.4,13.3,40.3,3.2,8.9,36.3,1.4,1.6,87.5,0.8,3.6,4.3,2.6,0.9,0.3,1.8,13.5\\r\\n67,Bobby Portis,61,28.9,15.3,6,12.3,48.4,2,4.9,40.5,1.3,1.8,75.2,2.5,6.6,9.1,1.2,0.8,0.8,1.3,19\\r\\n67,Scottie Barnes,61,35.6,15.3,6.2,12.6,49,0.8,2.5,31.6,2.1,2.9,73.2,2.6,5,7.6,3.3,1.2,0.8,1.9,19\\r\\n69,Seth Curry,56,34.1,15.2,5.8,11.9,48.5,2.4,5.8,41.2,1.3,1.5,86.9,0.3,3,3.3,3.9,0.8,0.2,1.8,15.3\\r\\n70,Tyrese Haliburton,65,35.1,15.2,5.5,11.9,46.7,2.2,5.2,41.6,1.9,2.3,83.3,0.7,3.3,4,7.9,1.8,0.6,2.6,20.1\\r\\n71,Evan Mobley,61,34.2,15.1,6.1,12.1,50.5,0.4,1.4,25.9,2.5,3.7,67.7,2,6.3,8.3,2.6,0.8,1.7,2,19.3\\r\\n72,Jusuf Nurkic,56,28.2,15,5.7,10.7,53.5,0.3,1,26.8,3.3,4.8,69,3,8.1,11.1,2.8,1.1,0.6,2.6,21.6\\r\\n73,Chris Paul,58,33,14.9,5.6,11.5,48.7,1,3.1,33,2.7,3.2,84.3,0.3,4.2,4.5,10.7,1.9,0.3,2.4,23.5\\r\\n74,Will Barton,60,31.7,14.8,5.6,12.7,43.9,2.2,6,35.7,1.5,1.9,79.5,0.6,4.2,4.8,3.8,0.8,0.5,1.8,15.5\\r\\n75,Wendell Carter Jr.,59,29.8,14.7,5.6,10.9,51.8,1.1,3.4,33,2.3,3.2,70.9,2.2,8.1,10.4,2.8,0.6,0.7,1.8,21.1\\r\\n76,Josh Hart,52,33.1,14.5,5.1,10.3,49.6,1.3,3.8,33.5,3,3.9,75.6,1.2,6.1,7.3,4.1,1.1,0.3,2.1,19\\r\\n77,Evan Fournier,67,29.7,14.4,5.2,12.2,42.5,3,7.6,39.5,1,1.5,70.7,0.5,2.3,2.7,1.9,0.9,0.3,1.3,11.5\\r\\n78,Aaron Gordon,64,31.3,14.3,5.5,10.8,50.9,1.1,3.5,31.5,2.2,3,73.8,1.6,4,5.6,2.5,0.6,0.6,1.7,15.8\\r\\n79,Mikal Bridges,70,35.1,14,5.5,10.4,53.1,1.4,3.9,37.3,1.5,1.7,84.4,1,3.3,4.3,2.3,1.2,0.4,0.8,16.3\\r\\n80,Bogdan Bogdanovic,51,29.5,13.9,5.1,12,42.3,2.5,7.1,34.7,1.3,1.5,84.4,0.4,3.6,4,3.2,1,0.3,1.1,14.1\\r\\n81,Montrezl Harrell,60,24.2,13.9,5.3,8.3,64.2,0.1,0.3,23.5,3.2,4.5,71.6,2.2,4.4,6.6,2,0.4,0.6,1.1,18.2\\r\\n82,Dennis Schroder,58,29.2,13.8,5,11.7,43,1.3,4,33.8,2.4,2.9,84.4,0.6,2.8,3.4,4.7,0.8,0.1,2.2,13.5\\r\\n83,Spencer Dinwiddie,56,30.4,13.8,4.6,11.4,40.4,1.7,5.1,33.5,2.9,3.7,78.6,0.7,3.6,4.3,5.5,0.7,0.2,1.6,15.3\\r\\n84,Eric Gordon,54,29.6,13.8,4.8,10.1,47.4,2.2,5.4,40.8,1.9,2.5,77.8,0.3,1.7,2,2.8,0.5,0.3,1.9,11.6\\r\\n85,Carmelo Anthony,61,26.6,13.7,4.7,10.6,44.3,2.3,5.9,38.6,2.1,2.5,82.9,0.9,3.2,4.2,1,0.7,0.8,0.9,13.2\\r\\n85,Kevin Love,61,22.2,13.7,4.3,10.3,42.1,2.4,6.2,38.8,2.6,3,85.3,1.1,6.1,7.2,2.1,0.3,0.2,1.3,15.9\\r\\n87,Jakob Poeltl,58,29.2,13.7,6.1,9.8,62.2,0,0,100,1.4,2.9,49.4,3.9,5.3,9.2,2.9,0.7,1.7,1.7,21.3\\r\\n88,Mike Conley,61,28.2,13.5,4.6,10.8,42.7,2.3,5.7,40.7,1.9,2.3,83,0.6,2.4,3,5.3,1.3,0.3,1.7,15.2\\r\\n89,Coby White,49,28.1,13.4,4.8,10.8,44.7,2.3,5.9,39.9,1.4,1.7,85.2,0.3,2.8,3.1,3,0.4,0.2,1.1,12.9\\r\\n90,Derrick White,63,29.2,13.4,4.6,11.1,41.8,1.5,5.1,29.7,2.6,3.1,86,0.5,3,3.5,5,1,0.9,1.6,15.3\\r\\n91,Chris Duarte,55,28,13.1,4.9,11.3,43.2,1.7,4.6,36.9,1.6,2,80.4,0.7,3.4,4.1,2.1,1,0.2,1.6,12\\r\\n92,Monte Morris,64,30,13,5.2,10.6,48.9,1.7,4.3,38.9,0.9,1.1,84.5,0.3,2.6,3,4.3,0.7,0.2,1,14.5\\r\\n93,Malik Monk,63,27.6,12.9,4.8,10.3,46.4,2.2,5.7,39.4,1.1,1.4,76.7,0.5,2.9,3.4,2.7,0.8,0.4,1.4,12.9\\r\\n94,Cameron Johnson,60,26.3,12.8,4.4,9.2,47.5,2.7,5.9,44.8,1.5,1.7,87.3,0.6,3.5,4.1,1.5,0.8,0.2,0.6,13.9\\r\\n95,Kyle Lowry,53,34.2,12.6,4.1,9.8,41.6,2,5.9,34.7,2.4,2.8,85.3,0.5,4.1,4.7,7.8,1.1,0.3,2.9,17.5\\r\\n96,Devonte' Graham,65,29.8,12.5,4.1,11.4,36.2,2.7,7.9,34.4,1.6,1.9,83.1,0.5,2,2.5,4.4,1,0.2,1.5,11.5\\r\\n97,Kentavious Caldwell-Pope,65,30,12.5,4.4,10.4,41.9,2.1,5.3,39.2,1.7,1.9,89.7,0.5,2.8,3.3,1.9,1.1,0.3,1.2,11.8\\r\\n98,Josh Giddey,54,31.5,12.5,5.2,12.4,41.9,1,3.9,26.3,1,1.5,70.9,1.8,6,7.8,6.4,0.9,0.4,3.2,17.2\\r\\n99,Patty Mills,69,30,12.4,4.4,10.5,41.8,3,7.3,41.4,0.6,0.8,81.1,0.2,1.7,2,2.4,0.7,0.2,0.9,10.6\\r\\n100,Lonnie Walker IV,64,23.4,12.4,4.6,11.2,40.8,1.6,5.1,31.8,1.7,2.1,77.9,0.3,2.3,2.6,2.2,0.6,0.3,1,9.9\\r\\n101,Jae'Sean Tate,65,26.9,12.3,4.8,9.5,50.8,0.8,2.7,30.1,1.8,2.6,70.7,1.7,3.8,5.5,3,0.9,0.6,1.9,15\\r\\n102,Malik Beasley,70,25.2,12.3,4.3,11.1,39,3.1,8.3,37.5,0.5,0.7,77.1,0.3,2.6,2.9,1.4,0.5,0.1,0.6,9.8\\r\\n103,Marcus Smart,60,32.8,12.2,4.2,10,42.2,1.6,4.8,33.3,2.2,2.7,80.2,0.6,3.3,3.9,5.7,1.7,0.3,2.1,15.4\\r\\n104,Kevin Huerter,61,29.5,11.8,4.6,10.2,45.6,2,5.4,38.2,0.5,0.6,79.5,0.5,2.9,3.3,2.7,0.7,0.4,1.2,12\\r\\n105,Devin Vassell,61,26.7,11.7,4.5,10.5,42.9,1.8,5.1,34.4,0.9,1.1,81.4,0.6,3.7,4.3,1.8,1,0.7,0.8,12.4\\r\\n106,Luke Kennard,61,27.6,11.7,4,9,44.7,2.7,6,45.5,0.9,1,88.9,0.3,3.1,3.4,2.1,0.6,0.1,0.9,11.9\\r\\n107,Nickeil Alexander-Walker,58,23.8,11.4,4.2,11.2,37.4,1.7,5.5,31.2,1.4,1.8,73.8,0.6,2.4,3,2.5,0.7,0.3,1.5,9.1\\r\\n108,Doug McDermott,51,24,11.3,4.2,9.1,46.2,2.1,5,42.2,0.8,1,78.4,0.4,1.9,2.3,1.3,0.3,0.1,0.8,9.3\\r\\n109,Gary Harris,59,28.6,11.3,4,9.1,43.9,1.9,4.9,39,1.4,1.6,87.1,0.6,1.4,2,1.8,0.9,0.2,1,9.9\\r\\n110,Duncan Robinson,67,26.6,11.2,3.8,9.5,39.6,3,8.1,36.6,0.7,0.9,84.2,0.3,2.4,2.8,1.7,0.5,0.2,0.8,9.6\\r\\n111,Grayson Allen,58,27.6,11.1,3.9,8.9,43.2,2.5,6.2,40.1,0.9,1.1,85.7,0.5,2.8,3.3,1.6,0.8,0.3,0.6,11.3\\r\\n112,Cameron Payne,49,22.2,11.1,4.2,10.3,40.6,1.2,3.7,33.9,1.5,1.7,84.7,0.4,2.6,3,4.7,0.7,0.3,1.9,11.6\\r\\n113,Cedi Osman,56,23,11,3.8,9.1,42.2,2,5.7,35.5,1.3,2,64.9,0.3,1.8,2.2,2.1,0.9,0.1,1,9.3\\r\\n114,Hamidou Diallo,58,21.9,11,4.5,9.1,49.6,0.4,1.6,24.7,1.6,2.4,65,1.2,3.6,4.8,1.3,1.2,0.3,1,12.1\\r\\n115,Alec Burks,68,27.6,11,3.3,8.7,37.8,1.7,4.5,38.4,2.6,3.2,82.1,0.6,4.2,4.8,2.8,1,0.3,1,12.9\\r\\n116,Danilo Gallinari,57,24.3,10.9,3.5,8.3,42.3,1.6,4.2,38.7,2.2,2.5,90,0.5,4,4.5,1.4,0.5,0.2,0.6,11.9\\r\\n117,Clint Capela,61,27.8,10.7,4.8,8.1,59.6,0,0,0,1.1,2.3,47.2,3.8,8.2,12,1.3,0.7,1.3,0.6,21\\r\\n118,Garrison Mathews,52,26.9,10.7,3,7.4,40.8,2.3,6.2,36.4,2.4,3,80.1,0.5,2.6,3.1,1,0.8,0.3,0.7,10.2\\r\\n119,Dorian Finney-Smith,67,33.2,10.7,4,8.6,46.1,2,5.3,38.6,0.8,1.1,67.5,1.6,3.3,4.9,1.9,1.1,0.5,1.1,13\\r\\n120,Max Strus,57,23.1,10.7,3.7,8.3,44.2,2.6,6.5,41,0.7,0.9,77.6,0.4,2.7,3.1,1.3,0.4,0.2,0.8,10.1\\r\\n121,Terance Mann,71,29,10.6,4.1,8.6,47.8,1,2.7,36.5,1.4,1.8,76.7,1.3,4.2,5.5,2.5,0.7,0.2,1,13.6\\r\\n122,Darius Bazley,64,27.9,10.5,3.9,9.3,41.9,1.2,3.8,30.2,1.5,2.3,68.8,1.1,5.5,6.5,1.4,0.9,1.1,1.4,12.9\\r\\n123,Justin Holiday,63,28.5,10.5,3.7,9.2,39.7,2.4,6.7,36.3,0.7,0.8,84.6,0.4,2.3,2.7,1.8,0.7,0.4,1,9.4\\r\\n124,Brandon Clarke,55,19.4,10.4,4.5,6.9,65.3,0.1,0.4,20,1.4,2.1,65.8,2.1,3.4,5.5,1.3,0.6,1.1,0.5,15.3\\r\\n125,Mo Bamba,60,25.9,10.3,4.1,8.5,47.9,1.4,3.7,36.3,0.8,1,81.7,2.1,5.9,8,1.1,0.6,1.7,1.1,15.9\\r\\n126,Jeff Green,65,24.6,10.3,3.7,7.2,51.8,0.7,2.2,30.1,2.2,2.7,83.3,0.6,2.6,3.2,1.3,0.4,0.4,1,10.6\\r\\n127,Ivica Zubac,66,24.6,10.3,4,6.3,63,0,0,0,2.3,3.1,73,2.8,5.7,8.5,1.5,0.5,1,1.6,17\\r\\n128,Al Horford,60,29.1,10.2,3.9,8.5,45.4,1.3,4,31.7,1.2,1.5,84.1,1.6,6,7.6,3.3,0.7,1.3,1,17.2\\r\\n129,Davion Mitchell,64,25.6,10.2,4.2,10.3,41,1.3,4.3,31.6,0.4,0.8,54.9,0.5,1.7,2.2,3.3,0.7,0.3,1.2,9.1\\r\\n130,Cam Reddish,49,20.7,10.1,3.4,8.3,40.4,1.3,3.8,35.9,2.1,2.3,90.2,0.5,1.6,2.1,1,1,0.3,1.2,8.2\\r\\n131,Immanuel Quickley,65,22,10.1,3.3,8.6,38.3,1.6,4.8,34.1,2,2.1,91.4,0.4,2.4,2.8,3.1,0.6,0,1.3,9.9\\r\\n132,Terrence Ross,60,23.2,10.1,3.5,8.9,39.7,1.3,4.2,29.8,1.8,2.1,86.4,0.3,2.2,2.5,1.9,0.5,0.2,1.3,8.3\\r\\n133,Trey Lyles,64,19.4,10.1,3.4,7.2,47.3,0.8,2.7,31.2,2.4,3.1,78.4,1.2,3.7,4.9,1.1,0.4,0.5,1,11.4\\r\\n134,P.J. Washington,53,26.5,10.1,3.7,8.1,45.3,1.8,4.8,36.6,1,1.4,70.8,1.3,4.1,5.4,2.1,0.9,0.9,1.3,13.2\\r\\n135,Pat Connaughton,54,27,10.1,3.6,7.7,46.7,2.3,5.7,40.7,0.6,0.7,81.1,0.7,3.7,4.4,1.2,0.9,0.3,0.6,12.1\\r\\n136,Robert Williams III,57,30,10,4.4,6.1,72.9,0,0,0,1.1,1.6,71.9,4,5.8,9.7,2,0.9,2.2,1.1,21.7\\r\\n137,Eric Bledsoe,54,25.2,9.9,3.6,8.7,42.1,0.9,3,31.3,1.6,2.2,76.1,0.5,2.9,3.4,4.2,1.3,0.4,2.1,11.4\\r\\n138,De'Anthony Melton,61,22.5,9.9,3.6,9.3,38.5,1.6,4.7,33.7,1.1,1.6,72.6,0.9,3.5,4.4,2.7,1.6,0.6,1.5,11.6\\r\\n139,Herbert Jones,66,30.1,9.7,3.6,7.4,48.7,0.7,2,34.6,1.8,2.1,85.3,1.3,2.6,3.9,2.2,1.5,0.8,1.3,12.6\\r\\n140,Jae Crowder,59,28.3,9.6,3.3,8.2,40.6,1.9,5.4,34.6,1.1,1.4,79.8,0.5,4.8,5.3,1.8,1.4,0.4,0.8,12.5\\r\\n141,Talen Horton-Tucker,51,25.7,9.6,3.6,8.8,41.4,0.8,3,27.1,1.5,1.9,77.6,0.7,2.6,3.3,2.7,0.9,0.5,1.5,10\\r\\n142,Georges Niang,64,23.2,9.4,3.3,7.7,43.1,2,5.2,39.4,0.8,0.9,87.5,0.4,2.3,2.7,1.4,0.4,0.2,0.8,8.8\\r\\n143,Caleb Martin,52,22.8,9.4,3.6,7,51.5,1,2.6,39.6,1.2,1.6,75.6,1.3,2.7,4,1.1,1,0.5,0.8,11.4\\r\\n144,JaVale McGee,64,15.7,9.4,4,6.3,63.5,0,0.1,25,1.4,1.9,70.2,2.2,4.5,6.7,0.6,0.3,1.1,1.3,13.9\\r\\n145,Josh Richardson,54,24.3,9.4,3.3,7.8,43,1.4,3.4,40.8,1.3,1.5,86.7,0.7,2.2,2.9,1.6,0.7,0.5,1,9.6\\r\\n146,Jaden McDaniels,67,26.1,9.4,3.7,8.1,45.9,1.1,3.7,31.3,0.8,1,80,1.1,3.1,4.3,1.1,0.8,0.8,1.1,10.7\\r\\n147,Tre Mann,55,22,9.4,3.5,9.1,38,1.4,4.1,34.5,1,1.3,77.8,0.4,2.2,2.6,1.5,0.8,0.2,1.1,7.5\\r\\n148,Bryn Forbes,67,17.8,9.3,3.3,7.6,43.1,1.7,4.1,41.6,1.1,1.2,90,0.1,1.2,1.3,1,0.3,0.1,0.8,6.8\\r\\n149,Bones Hyland,57,18.1,9.3,3.1,7.9,38.9,1.8,4.9,36.9,1.3,1.5,85.1,0.2,2.6,2.8,2.3,0.5,0.2,1.2,8.8\\r\\n150,Isaac Okoro,54,29.4,9.2,3.2,6.8,47,0.8,2.5,33.1,2,2.5,79.4,1.1,2.1,3.2,1.8,0.8,0.3,1,10.2\\r\\n151,Daniel Gafford,59,20.3,9.1,3.9,5.7,68.4,0,0,0,1.4,1.9,71.4,2.3,3.5,5.8,1,0.4,1.5,0.9,14.5\\r\\n152,Chris Boucher,67,20.4,9.1,3.2,6.8,47.6,0.8,2.7,28.7,1.9,2.4,77,2.1,3.8,6,0.3,0.6,1,0.5,12.3\\r\\n153,Cam Thomas,58,18.4,9.1,3.5,8.1,43.4,0.8,2.9,27.1,1.3,1.5,83.1,0.2,2.2,2.4,1.3,0.5,0.1,0.9,7.7\\r\\n153,Jonathan Kuminga,58,16.4,9.1,3.3,6.4,50.9,0.7,2.2,33.3,1.8,2.5,69.9,0.7,2.5,3.2,0.8,0.4,0.3,1.1,8.9\\r\\n155,Gabe Vincent,61,23.8,9,3.3,7.8,42,1.8,4.9,36.8,0.7,0.9,80.8,0.4,1.6,1.9,3.2,1,0.2,1.5,9.1\\r\\n156,Alperen Sengun,61,19.4,9,3.2,6.9,47,0.4,1.4,25.3,2.1,3.1,68.6,1.8,3.3,5,2.4,0.9,0.9,2,11.6\\r\\n157,Jaxson Hayes,57,18.5,8.9,3.4,5.2,64.9,0.2,0.6,32.4,2,2.6,76.2,1.4,2.8,4.2,0.6,0.4,0.8,0.8,11.7\\r\\n158,Kenyon Martin Jr.,66,20.8,8.9,3.6,6.7,53,0.7,2,34.8,1,1.6,63.5,1,2.9,3.9,1.4,0.4,0.4,0.8,10.5\\r\\n159,Amir Coffey,59,23.4,8.8,3,6.8,44.1,1.4,3.7,36.2,1.5,1.7,86.4,0.4,2.4,2.8,1.8,0.6,0.2,0.7,9.5\\r\\n160,Ayo Dosunmu,64,27,8.6,3.5,6.6,52.7,0.9,2.4,39.7,0.7,1,67.2,0.3,2.5,2.8,3.3,0.8,0.4,1.4,11.1\\r\\n161,Ben McLemore,50,18.6,8.6,2.8,7.6,37.6,2.1,6,35.2,0.8,1,81.6,0.2,1.3,1.5,0.9,0.4,0.1,0.8,5.8\\r\\n162,Precious Achiuwa,60,23.2,8.5,3.4,7.9,43.4,0.6,1.6,36.1,1,1.8,59,2.1,4.7,6.8,1.1,0.5,0.6,1.2,11.2\\r\\n163,Moritz Wagner,52,13.6,8.5,3,5.9,50.3,1,2.9,33.3,1.6,2,79.8,0.6,2.5,3.1,1.2,0.3,0.2,0.8,9.2\\r\\n164,Nicolas Batum,51,25.1,8.4,3.1,6.8,45.4,1.9,4.8,39.1,0.4,0.6,62.5,0.5,3.9,4.4,1.7,1,0.7,0.6,11.6\\r\\n165,Naz Reid,66,16,8.4,3,6.2,48.9,0.7,2.1,34.8,1.6,2,76.3,1.4,2.7,4,0.9,0.5,1,1.1,10.1\\r\\n166,Chuma Okeke,59,24.2,8.4,3,7.9,38.1,1.5,4.9,31,0.8,0.9,85.5,0.7,4.1,4.7,1.7,1.4,0.6,0.7,11\\r\\n167,Mitchell Robinson,63,25.1,8.3,3.6,4.7,77.1,0,0,0,1.2,2.4,48.7,3.9,4.8,8.7,0.5,0.7,1.8,0.8,16.9\\r\\n168,Hassan Whiteside,57,18.2,8.3,3.4,5.2,64.9,0,0,0,1.6,2.5,62.2,2.5,5.3,7.8,0.4,0.4,1.5,0.9,14.6\\r\\n169,Isaiah Stewart,59,25.8,8.3,3.6,7,51.3,0.1,0.4,15.4,1,1.5,68.5,3.2,5.3,8.5,1.1,0.3,1.1,1.2,14.2\\r\\n170,Jaylen Nowell,52,15.4,8.3,3.2,6.5,48.5,0.9,2.4,37.9,1,1.4,76.1,0.4,1.7,2,2.2,0.5,0.1,0.6,8.8\\r\\n171,Furkan Korkmaz,57,22.8,8.2,2.9,7.6,38.9,1.2,4.3,29.1,1.1,1.3,81.6,0.3,2.5,2.9,2.1,0.5,0.1,0.8,8.2\\r\\n172,Tyus Jones,63,20.3,8.2,3.3,7.3,45.1,1,2.7,36.5,0.7,0.8,83,0.2,2.2,2.4,4.2,0.9,0,0.6,11\\r\\n173,Reggie Bullock,57,26.8,8.2,2.8,7.2,39.5,1.9,5.5,34.5,0.6,0.8,81.8,0.4,3,3.4,1.1,0.6,0.2,0.6,8.5\\r\\n174,Otto Porter Jr.,55,21.5,8.1,3,6.5,46.2,1.3,3.6,37.2,0.7,0.9,78,1.1,4.1,5.3,1.5,1.2,0.5,0.5,12.2\\r\\n175,Cody Martin,59,26.7,8.1,2.9,6.3,46.9,0.9,2.4,40.3,1.2,1.7,69.9,1.1,2.8,4,2.4,1.3,0.5,0.9,11.4\\r\\n175,Cory Joseph,59,24.8,8.1,2.8,6.2,44.8,1,2.4,42.3,1.5,1.7,87.1,0.5,2.2,2.6,3.8,0.6,0.3,1.4,10.4\\r\\n177,P.J. Tucker,62,28.2,8,3.1,6.3,49,1.2,2.9,43,0.6,0.9,71.4,1.5,4,5.5,2.1,0.8,0.2,1,12.1\\r\\n178,Dwight Powell,69,21.2,8,3,4.6,65.3,0.2,0.5,37.1,1.8,2.3,76.5,2.1,2.5,4.7,1.1,0.5,0.4,0.8,11.8\\r\\n179,Raul Neto,59,20.7,7.9,3.1,6.7,45.7,0.5,1.8,28,1.2,1.6,75.3,0.2,1.8,2.1,3.2,0.8,0,1.1,8.8\\r\\n180,Bruce Brown,61,23.2,7.9,3.2,6.5,49.1,0.4,1.1,35.3,1.1,1.4,75,1.4,3.3,4.6,1.8,1.1,0.5,0.7,11.5\\r\\n181,Royce O'Neale,65,31.4,7.8,2.8,5.7,49.2,1.6,3.8,41.6,0.6,0.8,80,0.8,4.1,5,2.6,1.2,0.4,1,13\\r\\n182,Isaiah Hartenstein,58,16.9,7.8,3.3,5.1,63.8,0.1,0.2,38.5,1.2,1.8,64.2,1.6,2.9,4.5,2,0.7,1.1,1.2,12.4\\r\\n183,Oshae Brissett,57,21.7,7.8,2.6,6.6,39.8,1,3.1,33.7,1.4,2.1,66.4,1.5,3.4,5,0.8,0.6,0.5,0.7,9.2\\r\\n184,Jordan Nwora,54,19.2,7.7,3,7.4,40.8,1.3,3.8,35,0.4,0.5,80.8,0.6,3,3.6,1,0.5,0.3,0.9,7.6\\r\\n185,Ziaire Williams,50,21.6,7.7,3,6.6,45.6,1.2,3.8,31.7,0.5,0.6,78.1,0.4,1.6,2,0.9,0.5,0.2,0.6,7\\r\\n186,Robert Covington,61,27.9,7.7,2.7,6.8,39.7,1.6,4.6,34.5,0.7,0.9,83,0.9,4.7,5.6,1.3,1.5,1.3,1.1,12.1\\r\\n186,Robert Covington,61,27.9,7.7,2.7,6.8,39.7,1.6,4.6,34.5,0.7,0.9,83,0.9,4.7,5.6,1.3,1.5,1.3,1.1,12.1\\r\\n187,Landry Shamet,57,20.4,7.6,2.5,6.6,37.2,1.7,4.6,36.3,1.1,1.3,84.7,0.2,1.6,1.8,1.6,0.4,0.1,0.6,6.8\\r\\n188,Deni Avdija,68,23.3,7.6,2.8,6.3,43.7,0.9,2.7,31.2,1.2,1.6,76.1,0.6,4.4,5,1.7,0.8,0.5,0.9,10.8\\r\\n189,Josh Christopher,61,17.2,7.5,2.9,6.5,44.6,0.8,2.5,30.5,1,1.2,76.3,0.7,1.7,2.3,1.8,0.8,0.1,1.4,7.3\\r\\n190,Grant Williams,65,23.7,7.5,2.6,5.3,48.4,1.4,3.4,42.5,0.9,1,92.4,0.8,2.6,3.4,1,0.5,0.7,0.8,9.6\\r\\n191,Damion Lee,54,19.8,7.5,2.8,6.1,44.9,1.1,3.1,35.1,0.9,1,85.5,0.4,2.7,3.1,0.9,0.7,0.1,0.6,8.2\\r\\n192,Javonte Green,52,24.2,7.5,2.8,5.2,54.1,0.6,1.6,37.8,1.3,1.6,84,1.5,2.8,4.3,1,1,0.5,0.5,11.1\\r\\n193,Corey Kispert,63,21.5,7.4,2.7,6.2,44.5,1.3,3.7,34.2,0.7,0.8,83.7,0.7,1.9,2.7,1,0.3,0.3,0.6,7.5\\r\\n194,Kenrich Williams,49,21.9,7.4,3,6.5,46.1,0.8,2.5,33.9,0.6,1.1,54.5,1.5,3,4.5,2.2,0.9,0.2,0.9,10.3\\r\\n195,Kyle Anderson,57,21.4,7.2,2.9,6.7,43.5,0.5,1.6,31.1,0.9,1.5,60,1,4.4,5.5,2.6,1.1,0.6,1,11.7\\r\\n196,Steven Adams,66,26.4,7.2,2.9,5.2,55.7,0,0,0,1.5,2.7,54.7,4.7,5.2,9.9,3.3,0.8,0.8,1.6,16.9\\r\\n197,Obi Toppin,59,14.9,7.2,2.8,5.5,51.2,0.4,1.8,23.8,1.2,1.6,73.9,0.9,2.6,3.5,0.9,0.3,0.4,0.7,8.4\\r\\n198,R.J. Hampton,53,20.6,7.2,2.5,6.7,38,1,2.7,35.9,1.2,1.9,61,0.3,2.6,2.8,2.3,0.6,0.2,1.3,7.1\\r\\n199,Maxi Kleber,50,25,7.2,2.4,6.1,40.3,1.5,4.3,34.1,0.8,1.1,71.9,1.2,4.7,5.9,1.2,0.5,1.1,0.7,11.2\\r\\n200,Andre Drummond,62,19,7.1,3,5.4,56.3,0,0,0,1.1,2.1,50.4,2.9,6.1,9,1.9,1,0.9,1.6,15\\r\\n,,,,,,,,,,,,,,,,,,,,,\\r\\n201,Gary Payton II,60,17.1,7.1,3,4.8,61.2,0.7,1.8,36.4,0.5,0.9,57.4,1,2.5,3.4,0.8,1.4,0.3,0.5,10.2\\r\\n202,Jarred Vanderbilt,63,25.8,6.9,2.9,4.9,58.6,0,0.2,16.7,1.1,1.7,64.8,3,5.7,8.7,1.4,1.4,0.7,1,15.5\\r\\n203,Aleksej Pokusevski,53,18.3,6.9,2.8,6.7,41.5,0.8,2.8,28.2,0.5,0.7,68.4,1.2,3.6,4.8,1.5,0.6,0.6,1.3,8.9\\r\\n204,Taurean Prince,59,16.5,6.8,2.4,5.3,45.5,1.2,3.2,37.6,0.8,1.1,74.6,0.3,2.1,2.4,0.9,0.7,0.3,0.8,7.2\\r\\n205,JaMychal Green,57,16.2,6.7,2.5,5.1,48.3,0.5,2,26.5,1.3,1.4,88.9,1.2,3.1,4.3,0.8,0.7,0.4,0.9,9.2\\r\\n206,Austin Reaves,50,22.4,6.6,2.3,4.8,47.9,0.8,2.6,31.8,1.2,1.5,83.8,0.5,2.2,2.7,1.3,0.4,0.4,0.6,8.1\\r\\n207,Mason Plumlee,61,25.2,6.6,2.9,4.5,64.1,0,0,0,0.9,2.4,37,2.5,5.6,8.1,3.2,0.9,0.7,1.3,15.1\\r\\n208,Lou Williams,49,14.4,6.5,2.3,5.8,40.2,0.7,1.9,34.7,1.1,1.3,87.5,0.3,1.2,1.5,1.9,0.5,0.1,0.7,6.1\\r\\n209,Torrey Craig,66,20.3,6.5,2.5,5.6,44.7,0.9,2.9,31.6,0.6,0.8,74,1.1,2.9,4,1.2,0.5,0.5,0.8,8.5\\r\\n210,Aaron Holiday,55,16.6,6.4,2.5,5.3,46.6,0.6,1.6,38.6,0.8,1,85.2,0.3,1.5,1.9,2.4,0.7,0.2,1,7.5\\r\\n211,Blake Griffin,53,17.4,6.4,2.4,5.7,41.9,0.6,2.6,24.8,1,1.4,71.6,1.1,3,4.1,1.9,0.5,0.2,0.5,9\\r\\n212,Avery Bradley,55,22.9,6.4,2.4,5.9,41.2,1.3,3.5,38,0.3,0.3,87.5,0.5,1.7,2.3,0.8,0.9,0.2,0.6,6.4\\r\\n213,Kevon Looney,70,21.7,6.4,2.7,4.7,56.6,0,0,0,1,1.6,60.9,2.7,4.9,7.6,2,0.7,0.7,0.9,13.8\\r\\n214,Austin Rivers,55,21.9,6.3,2.3,5.5,41.9,1.2,3.6,34.2,0.5,0.7,71.1,0.3,1.4,1.7,1.3,0.8,0.1,0.8,6\\r\\n215,Dewayne Dedmon,60,16,6.2,2.4,4.3,56.2,0.3,0.6,45.7,1.1,1.3,79.7,1.7,4.2,5.9,0.8,0.4,0.6,1,10.6\\r\\n216,James Johnson,54,19.7,6.1,2.6,5.4,47.4,0.4,1.5,28,0.5,1,52.8,0.9,2.6,3.5,2.2,0.5,0.5,0.8,8.6\\r\\n217,Killian Hayes,55,24.3,6,2.3,6.3,35.9,0.6,2.4,26,0.8,1.1,76.7,0.5,2.5,3,4.3,1,0.5,1.7,8.8\\r\\n218,Danny Green,48,22.1,6,2.1,5.3,39,1.6,4.4,37.3,0.2,0.2,90,0.5,1.9,2.4,1,1,0.6,0.8,7\\r\\n219,Nemanja Bjelica,61,15.6,5.9,2.2,4.8,45.4,0.7,2.1,33.8,0.8,1.1,69.1,0.8,3.1,3.9,2,0.6,0.3,1.1,8.6\\r\\n220,Ish Smith,51,16,5.7,2.5,5.9,42.7,0.4,0.9,42.2,0.3,0.5,62.5,0.4,1.6,2,3.3,0.6,0.3,1.1,7.4\\r\\n221,Omer Yurtseven,49,12.8,5.7,2.5,4.5,54.5,0,0.1,14.3,0.7,1.2,63.2,1.5,3.9,5.4,0.9,0.3,0.4,0.8,9.5\\r\\n222,Matisse Thybulle,53,25.9,5.7,2.3,4.7,48.2,0.7,2.3,29,0.4,0.6,74.2,0.6,1.8,2.4,1.1,1.7,1.1,0.7,8.7\\r\\n223,Drew Eubanks,58,14.4,5.5,2.2,3.9,55.3,0,0.2,10,1.2,1.6,75.6,1.5,3.2,4.7,1.1,0.3,0.6,1,9\\r\\n224,Eric Paschall,50,12.7,5.5,1.8,3.7,48.1,0.7,1.9,37.9,1.1,1.5,77,0.5,1.4,1.9,0.6,0.1,0.1,0.5,5.4\\r\\n225,Garrett Temple,56,18.9,5.4,1.9,5,38.3,1,3.1,32,0.5,0.7,68.3,0.5,2,2.5,1.3,0.8,0.4,0.7,6.3\\r\\n226,Keita Bates-Diop,51,16.1,5.3,2.2,4.2,50.9,0.3,1,34.7,0.7,0.9,70.8,1,2.9,3.9,0.7,0.5,0.3,0.7,7.6\\r\\n227,Facundo Campazzo,62,18.8,5.3,1.7,4.7,36.6,0.9,3,30.3,1,1.3,76.9,0.4,1.5,1.9,3.5,1,0.4,1,7.7\\r\\n228,Dean Wade,51,19.2,5.3,1.9,4.3,45.6,1,2.8,35.9,0.4,0.6,66.7,0.6,2.3,2.9,1,0.6,0.1,0.3,7.1\\r\\n229,Payton Pritchard,59,12.9,5.2,1.9,4.8,39.6,1.1,3,36.9,0.3,0.3,100,0.4,1.3,1.6,1.7,0.2,0.1,0.6,5.3\\r\\n230,Dwight Howard,49,14.8,5.2,1.9,3.1,60.1,0.1,0.2,66.7,1.3,2,63.6,2,3.6,5.6,0.6,0.6,0.6,0.8,9.8\\r\\n231,Tre Jones,57,15,5.1,2.1,4.3,49,0.1,0.5,10.3,0.8,1.1,77.4,0.4,1.6,2,2.9,0.5,0.1,0.6,7.6\\r\\n232,DeAndre' Bembry,56,18.3,5.1,2.2,3.9,56.1,0.3,0.6,41.7,0.4,0.6,60,0.8,2.2,2.9,1.2,0.9,0.4,0.6,7.9\\r\\n233,Lamar Stevens,50,14.2,4.9,2,4.3,46.8,0.3,1,28.6,0.6,0.9,65.2,0.6,1.6,2.2,0.6,0.4,0.3,0.6,5.3\\r\\n234,Svi Mykhailiuk,51,13.6,4.8,1.7,4.4,39.3,0.7,2.5,30.2,0.6,0.7,85.3,0.4,1.4,1.8,0.8,0.5,0.1,0.5,4.6\\r\\n235,Josh Green,54,15.2,4.6,1.9,3.7,50.5,0.4,1,34.5,0.5,0.7,70,0.8,1.6,2.4,1.2,0.7,0.2,0.6,6.5\\r\\n236,John Konchar,60,18.2,4.6,1.8,3.5,50,0.7,1.8,40,0.4,0.7,59,1.2,3.4,4.5,1.4,0.6,0.3,0.4,9.1\\r\\n237,Trey Murphy III,49,12.8,4.6,1.5,3.9,38,1,2.7,36.6,0.6,0.7,82.9,0.7,1.5,2.2,0.6,0.3,0.1,0.2,5.1\\r\\n238,Troy Brown Jr.,57,16.8,4.3,1.6,4,41.2,0.7,2,34.8,0.3,0.4,76,0.6,2.5,3.2,1,0.5,0.1,0.4,6.3\\r\\n239,Juan Toscano-Anderson,67,13.9,4.2,1.6,3.3,48.7,0.4,1.3,31,0.6,1,57.1,0.4,2.1,2.5,1.8,0.7,0.2,0.9,6.3\\r\\n240,Delon Wright,64,18,4.2,1.5,3.4,43.8,0.5,1.4,34.8,0.7,0.8,84.9,0.6,2.2,2.8,2.3,1,0.2,0.6,7.9\\r\\n241,Frank Ntilikina,49,12.2,4.1,1.5,3.9,37.5,0.7,2,34,0.5,0.5,95.8,0.2,1.2,1.3,1.1,0.5,0.1,0.5,4.2\\r\\n242,Jevon Carter,56,13.1,3.9,1.3,3.7,35.4,1,2.7,37.3,0.2,0.3,81.3,0.2,1.3,1.5,1.1,0.3,0.2,0.5,4.1\\r\\n243,Isaiah Joe,48,11.6,3.6,1.1,3.3,35,0.8,2.5,33.1,0.5,0.5,92.3,0.1,0.9,1,0.7,0.3,0.1,0.3,3.1\\r\\n244,Tony Snell,49,15.8,3.4,1.2,3.1,39.2,0.9,2.4,35.3,0.1,0.1,100,0.3,1.7,2,0.5,0.3,0.2,0.4,4.1\\r\\n245,Dalano Banton,58,11.5,3.4,1.4,3.4,40.3,0.2,0.9,26,0.4,0.7,61.5,0.6,1.4,2,1.6,0.5,0.2,0.9,4.4\\r\\n246,Trent Forrest,54,12.6,3.2,1.2,2.5,50.4,0.1,0.4,20.8,0.7,0.8,83.7,0.3,1.3,1.6,1.7,0.5,0.1,0.9,5\\r\\n247,Jordan McLaughlin,51,13.7,3.1,1.2,3.1,38.5,0.3,1.2,23,0.5,0.7,74.3,0.3,1.2,1.5,2.9,0.9,0.1,0.6,5.9\\r\\n\"}"
            ]
          },
          "metadata": {},
          "execution_count": 4
        }
      ]
    },
    {
      "cell_type": "code",
      "source": [
        "# CSV파일 읽기\n",
        "nbastat = pd.read_csv('nbastat2022.csv')\n",
        "nbastat"
      ],
      "metadata": {
        "colab": {
          "base_uri": "https://localhost:8080/",
          "height": 423
        },
        "id": "GMdMWo5STj8N",
        "outputId": "38193056-5f86-46eb-b3a8-945e37206fc4"
      },
      "execution_count": 5,
      "outputs": [
        {
          "output_type": "execute_result",
          "data": {
            "text/plain": [
              "         #                 PLAYER    GP   MIN   PTS   FGM   FGA   FG%  3PM  \\\n",
              "0      1.0            Joel Embiid  56.0  33.4  29.9   9.4  19.3  48.9  1.4   \n",
              "1      2.0  Giannis Antetokounmpo  59.0  32.9  29.8  10.2  18.6  54.7  1.1   \n",
              "2      3.0           LeBron James  51.0  36.9  29.5  11.1  21.3  52.0  2.8   \n",
              "3      4.0            Luka Doncic  53.0  35.7  28.2   9.9  21.8  45.5  2.9   \n",
              "4      5.0             Trae Young  64.0  34.9  28.0   9.3  20.4  45.6  3.0   \n",
              "..     ...                    ...   ...   ...   ...   ...   ...   ...  ...   \n",
              "244  243.0             Isaiah Joe  48.0  11.6   3.6   1.1   3.3  35.0  0.8   \n",
              "245  244.0             Tony Snell  49.0  15.8   3.4   1.2   3.1  39.2  0.9   \n",
              "246  245.0          Dalano Banton  58.0  11.5   3.4   1.4   3.4  40.3  0.2   \n",
              "247  246.0          Trent Forrest  54.0  12.6   3.2   1.2   2.5  50.4  0.1   \n",
              "248  247.0      Jordan McLaughlin  51.0  13.7   3.1   1.2   3.1  38.5  0.3   \n",
              "\n",
              "     3PA  ...   FTA    FT%  OREB  DREB   REB  AST  STL  BLK  TOV    EF  \n",
              "0    3.7  ...  11.9   82.1   2.1   9.3  11.4  4.4  1.0  1.4  3.0  33.2  \n",
              "1    3.7  ...  11.6   72.1   2.0   9.5  11.5  5.8  1.1  1.4  3.2  34.8  \n",
              "2    8.0  ...   6.0   76.0   1.1   7.0   8.1  6.2  1.4  1.1  3.5  31.1  \n",
              "3    8.5  ...   7.4   74.4   0.9   8.4   9.3  8.6  1.2  0.6  4.5  29.6  \n",
              "4    7.8  ...   7.2   90.0   0.6   3.2   3.8  9.5  1.0  0.1  4.0  26.7  \n",
              "..   ...  ...   ...    ...   ...   ...   ...  ...  ...  ...  ...   ...  \n",
              "244  2.5  ...   0.5   92.3   0.1   0.9   1.0  0.7  0.3  0.1  0.3   3.1  \n",
              "245  2.4  ...   0.1  100.0   0.3   1.7   2.0  0.5  0.3  0.2  0.4   4.1  \n",
              "246  0.9  ...   0.7   61.5   0.6   1.4   2.0  1.6  0.5  0.2  0.9   4.4  \n",
              "247  0.4  ...   0.8   83.7   0.3   1.3   1.6  1.7  0.5  0.1  0.9   5.0  \n",
              "248  1.2  ...   0.7   74.3   0.3   1.2   1.5  2.9  0.9  0.1  0.6   5.9  \n",
              "\n",
              "[249 rows x 22 columns]"
            ],
            "text/html": [
              "\n",
              "  <div id=\"df-451ba167-2157-473f-ada7-f975cd82401f\">\n",
              "    <div class=\"colab-df-container\">\n",
              "      <div>\n",
              "<style scoped>\n",
              "    .dataframe tbody tr th:only-of-type {\n",
              "        vertical-align: middle;\n",
              "    }\n",
              "\n",
              "    .dataframe tbody tr th {\n",
              "        vertical-align: top;\n",
              "    }\n",
              "\n",
              "    .dataframe thead th {\n",
              "        text-align: right;\n",
              "    }\n",
              "</style>\n",
              "<table border=\"1\" class=\"dataframe\">\n",
              "  <thead>\n",
              "    <tr style=\"text-align: right;\">\n",
              "      <th></th>\n",
              "      <th>#</th>\n",
              "      <th>PLAYER</th>\n",
              "      <th>GP</th>\n",
              "      <th>MIN</th>\n",
              "      <th>PTS</th>\n",
              "      <th>FGM</th>\n",
              "      <th>FGA</th>\n",
              "      <th>FG%</th>\n",
              "      <th>3PM</th>\n",
              "      <th>3PA</th>\n",
              "      <th>...</th>\n",
              "      <th>FTA</th>\n",
              "      <th>FT%</th>\n",
              "      <th>OREB</th>\n",
              "      <th>DREB</th>\n",
              "      <th>REB</th>\n",
              "      <th>AST</th>\n",
              "      <th>STL</th>\n",
              "      <th>BLK</th>\n",
              "      <th>TOV</th>\n",
              "      <th>EF</th>\n",
              "    </tr>\n",
              "  </thead>\n",
              "  <tbody>\n",
              "    <tr>\n",
              "      <th>0</th>\n",
              "      <td>1.0</td>\n",
              "      <td>Joel Embiid</td>\n",
              "      <td>56.0</td>\n",
              "      <td>33.4</td>\n",
              "      <td>29.9</td>\n",
              "      <td>9.4</td>\n",
              "      <td>19.3</td>\n",
              "      <td>48.9</td>\n",
              "      <td>1.4</td>\n",
              "      <td>3.7</td>\n",
              "      <td>...</td>\n",
              "      <td>11.9</td>\n",
              "      <td>82.1</td>\n",
              "      <td>2.1</td>\n",
              "      <td>9.3</td>\n",
              "      <td>11.4</td>\n",
              "      <td>4.4</td>\n",
              "      <td>1.0</td>\n",
              "      <td>1.4</td>\n",
              "      <td>3.0</td>\n",
              "      <td>33.2</td>\n",
              "    </tr>\n",
              "    <tr>\n",
              "      <th>1</th>\n",
              "      <td>2.0</td>\n",
              "      <td>Giannis Antetokounmpo</td>\n",
              "      <td>59.0</td>\n",
              "      <td>32.9</td>\n",
              "      <td>29.8</td>\n",
              "      <td>10.2</td>\n",
              "      <td>18.6</td>\n",
              "      <td>54.7</td>\n",
              "      <td>1.1</td>\n",
              "      <td>3.7</td>\n",
              "      <td>...</td>\n",
              "      <td>11.6</td>\n",
              "      <td>72.1</td>\n",
              "      <td>2.0</td>\n",
              "      <td>9.5</td>\n",
              "      <td>11.5</td>\n",
              "      <td>5.8</td>\n",
              "      <td>1.1</td>\n",
              "      <td>1.4</td>\n",
              "      <td>3.2</td>\n",
              "      <td>34.8</td>\n",
              "    </tr>\n",
              "    <tr>\n",
              "      <th>2</th>\n",
              "      <td>3.0</td>\n",
              "      <td>LeBron James</td>\n",
              "      <td>51.0</td>\n",
              "      <td>36.9</td>\n",
              "      <td>29.5</td>\n",
              "      <td>11.1</td>\n",
              "      <td>21.3</td>\n",
              "      <td>52.0</td>\n",
              "      <td>2.8</td>\n",
              "      <td>8.0</td>\n",
              "      <td>...</td>\n",
              "      <td>6.0</td>\n",
              "      <td>76.0</td>\n",
              "      <td>1.1</td>\n",
              "      <td>7.0</td>\n",
              "      <td>8.1</td>\n",
              "      <td>6.2</td>\n",
              "      <td>1.4</td>\n",
              "      <td>1.1</td>\n",
              "      <td>3.5</td>\n",
              "      <td>31.1</td>\n",
              "    </tr>\n",
              "    <tr>\n",
              "      <th>3</th>\n",
              "      <td>4.0</td>\n",
              "      <td>Luka Doncic</td>\n",
              "      <td>53.0</td>\n",
              "      <td>35.7</td>\n",
              "      <td>28.2</td>\n",
              "      <td>9.9</td>\n",
              "      <td>21.8</td>\n",
              "      <td>45.5</td>\n",
              "      <td>2.9</td>\n",
              "      <td>8.5</td>\n",
              "      <td>...</td>\n",
              "      <td>7.4</td>\n",
              "      <td>74.4</td>\n",
              "      <td>0.9</td>\n",
              "      <td>8.4</td>\n",
              "      <td>9.3</td>\n",
              "      <td>8.6</td>\n",
              "      <td>1.2</td>\n",
              "      <td>0.6</td>\n",
              "      <td>4.5</td>\n",
              "      <td>29.6</td>\n",
              "    </tr>\n",
              "    <tr>\n",
              "      <th>4</th>\n",
              "      <td>5.0</td>\n",
              "      <td>Trae Young</td>\n",
              "      <td>64.0</td>\n",
              "      <td>34.9</td>\n",
              "      <td>28.0</td>\n",
              "      <td>9.3</td>\n",
              "      <td>20.4</td>\n",
              "      <td>45.6</td>\n",
              "      <td>3.0</td>\n",
              "      <td>7.8</td>\n",
              "      <td>...</td>\n",
              "      <td>7.2</td>\n",
              "      <td>90.0</td>\n",
              "      <td>0.6</td>\n",
              "      <td>3.2</td>\n",
              "      <td>3.8</td>\n",
              "      <td>9.5</td>\n",
              "      <td>1.0</td>\n",
              "      <td>0.1</td>\n",
              "      <td>4.0</td>\n",
              "      <td>26.7</td>\n",
              "    </tr>\n",
              "    <tr>\n",
              "      <th>...</th>\n",
              "      <td>...</td>\n",
              "      <td>...</td>\n",
              "      <td>...</td>\n",
              "      <td>...</td>\n",
              "      <td>...</td>\n",
              "      <td>...</td>\n",
              "      <td>...</td>\n",
              "      <td>...</td>\n",
              "      <td>...</td>\n",
              "      <td>...</td>\n",
              "      <td>...</td>\n",
              "      <td>...</td>\n",
              "      <td>...</td>\n",
              "      <td>...</td>\n",
              "      <td>...</td>\n",
              "      <td>...</td>\n",
              "      <td>...</td>\n",
              "      <td>...</td>\n",
              "      <td>...</td>\n",
              "      <td>...</td>\n",
              "      <td>...</td>\n",
              "    </tr>\n",
              "    <tr>\n",
              "      <th>244</th>\n",
              "      <td>243.0</td>\n",
              "      <td>Isaiah Joe</td>\n",
              "      <td>48.0</td>\n",
              "      <td>11.6</td>\n",
              "      <td>3.6</td>\n",
              "      <td>1.1</td>\n",
              "      <td>3.3</td>\n",
              "      <td>35.0</td>\n",
              "      <td>0.8</td>\n",
              "      <td>2.5</td>\n",
              "      <td>...</td>\n",
              "      <td>0.5</td>\n",
              "      <td>92.3</td>\n",
              "      <td>0.1</td>\n",
              "      <td>0.9</td>\n",
              "      <td>1.0</td>\n",
              "      <td>0.7</td>\n",
              "      <td>0.3</td>\n",
              "      <td>0.1</td>\n",
              "      <td>0.3</td>\n",
              "      <td>3.1</td>\n",
              "    </tr>\n",
              "    <tr>\n",
              "      <th>245</th>\n",
              "      <td>244.0</td>\n",
              "      <td>Tony Snell</td>\n",
              "      <td>49.0</td>\n",
              "      <td>15.8</td>\n",
              "      <td>3.4</td>\n",
              "      <td>1.2</td>\n",
              "      <td>3.1</td>\n",
              "      <td>39.2</td>\n",
              "      <td>0.9</td>\n",
              "      <td>2.4</td>\n",
              "      <td>...</td>\n",
              "      <td>0.1</td>\n",
              "      <td>100.0</td>\n",
              "      <td>0.3</td>\n",
              "      <td>1.7</td>\n",
              "      <td>2.0</td>\n",
              "      <td>0.5</td>\n",
              "      <td>0.3</td>\n",
              "      <td>0.2</td>\n",
              "      <td>0.4</td>\n",
              "      <td>4.1</td>\n",
              "    </tr>\n",
              "    <tr>\n",
              "      <th>246</th>\n",
              "      <td>245.0</td>\n",
              "      <td>Dalano Banton</td>\n",
              "      <td>58.0</td>\n",
              "      <td>11.5</td>\n",
              "      <td>3.4</td>\n",
              "      <td>1.4</td>\n",
              "      <td>3.4</td>\n",
              "      <td>40.3</td>\n",
              "      <td>0.2</td>\n",
              "      <td>0.9</td>\n",
              "      <td>...</td>\n",
              "      <td>0.7</td>\n",
              "      <td>61.5</td>\n",
              "      <td>0.6</td>\n",
              "      <td>1.4</td>\n",
              "      <td>2.0</td>\n",
              "      <td>1.6</td>\n",
              "      <td>0.5</td>\n",
              "      <td>0.2</td>\n",
              "      <td>0.9</td>\n",
              "      <td>4.4</td>\n",
              "    </tr>\n",
              "    <tr>\n",
              "      <th>247</th>\n",
              "      <td>246.0</td>\n",
              "      <td>Trent Forrest</td>\n",
              "      <td>54.0</td>\n",
              "      <td>12.6</td>\n",
              "      <td>3.2</td>\n",
              "      <td>1.2</td>\n",
              "      <td>2.5</td>\n",
              "      <td>50.4</td>\n",
              "      <td>0.1</td>\n",
              "      <td>0.4</td>\n",
              "      <td>...</td>\n",
              "      <td>0.8</td>\n",
              "      <td>83.7</td>\n",
              "      <td>0.3</td>\n",
              "      <td>1.3</td>\n",
              "      <td>1.6</td>\n",
              "      <td>1.7</td>\n",
              "      <td>0.5</td>\n",
              "      <td>0.1</td>\n",
              "      <td>0.9</td>\n",
              "      <td>5.0</td>\n",
              "    </tr>\n",
              "    <tr>\n",
              "      <th>248</th>\n",
              "      <td>247.0</td>\n",
              "      <td>Jordan McLaughlin</td>\n",
              "      <td>51.0</td>\n",
              "      <td>13.7</td>\n",
              "      <td>3.1</td>\n",
              "      <td>1.2</td>\n",
              "      <td>3.1</td>\n",
              "      <td>38.5</td>\n",
              "      <td>0.3</td>\n",
              "      <td>1.2</td>\n",
              "      <td>...</td>\n",
              "      <td>0.7</td>\n",
              "      <td>74.3</td>\n",
              "      <td>0.3</td>\n",
              "      <td>1.2</td>\n",
              "      <td>1.5</td>\n",
              "      <td>2.9</td>\n",
              "      <td>0.9</td>\n",
              "      <td>0.1</td>\n",
              "      <td>0.6</td>\n",
              "      <td>5.9</td>\n",
              "    </tr>\n",
              "  </tbody>\n",
              "</table>\n",
              "<p>249 rows × 22 columns</p>\n",
              "</div>\n",
              "      <button class=\"colab-df-convert\" onclick=\"convertToInteractive('df-451ba167-2157-473f-ada7-f975cd82401f')\"\n",
              "              title=\"Convert this dataframe to an interactive table.\"\n",
              "              style=\"display:none;\">\n",
              "        \n",
              "  <svg xmlns=\"http://www.w3.org/2000/svg\" height=\"24px\"viewBox=\"0 0 24 24\"\n",
              "       width=\"24px\">\n",
              "    <path d=\"M0 0h24v24H0V0z\" fill=\"none\"/>\n",
              "    <path d=\"M18.56 5.44l.94 2.06.94-2.06 2.06-.94-2.06-.94-.94-2.06-.94 2.06-2.06.94zm-11 1L8.5 8.5l.94-2.06 2.06-.94-2.06-.94L8.5 2.5l-.94 2.06-2.06.94zm10 10l.94 2.06.94-2.06 2.06-.94-2.06-.94-.94-2.06-.94 2.06-2.06.94z\"/><path d=\"M17.41 7.96l-1.37-1.37c-.4-.4-.92-.59-1.43-.59-.52 0-1.04.2-1.43.59L10.3 9.45l-7.72 7.72c-.78.78-.78 2.05 0 2.83L4 21.41c.39.39.9.59 1.41.59.51 0 1.02-.2 1.41-.59l7.78-7.78 2.81-2.81c.8-.78.8-2.07 0-2.86zM5.41 20L4 18.59l7.72-7.72 1.47 1.35L5.41 20z\"/>\n",
              "  </svg>\n",
              "      </button>\n",
              "      \n",
              "  <style>\n",
              "    .colab-df-container {\n",
              "      display:flex;\n",
              "      flex-wrap:wrap;\n",
              "      gap: 12px;\n",
              "    }\n",
              "\n",
              "    .colab-df-convert {\n",
              "      background-color: #E8F0FE;\n",
              "      border: none;\n",
              "      border-radius: 50%;\n",
              "      cursor: pointer;\n",
              "      display: none;\n",
              "      fill: #1967D2;\n",
              "      height: 32px;\n",
              "      padding: 0 0 0 0;\n",
              "      width: 32px;\n",
              "    }\n",
              "\n",
              "    .colab-df-convert:hover {\n",
              "      background-color: #E2EBFA;\n",
              "      box-shadow: 0px 1px 2px rgba(60, 64, 67, 0.3), 0px 1px 3px 1px rgba(60, 64, 67, 0.15);\n",
              "      fill: #174EA6;\n",
              "    }\n",
              "\n",
              "    [theme=dark] .colab-df-convert {\n",
              "      background-color: #3B4455;\n",
              "      fill: #D2E3FC;\n",
              "    }\n",
              "\n",
              "    [theme=dark] .colab-df-convert:hover {\n",
              "      background-color: #434B5C;\n",
              "      box-shadow: 0px 1px 3px 1px rgba(0, 0, 0, 0.15);\n",
              "      filter: drop-shadow(0px 1px 2px rgba(0, 0, 0, 0.3));\n",
              "      fill: #FFFFFF;\n",
              "    }\n",
              "  </style>\n",
              "\n",
              "      <script>\n",
              "        const buttonEl =\n",
              "          document.querySelector('#df-451ba167-2157-473f-ada7-f975cd82401f button.colab-df-convert');\n",
              "        buttonEl.style.display =\n",
              "          google.colab.kernel.accessAllowed ? 'block' : 'none';\n",
              "\n",
              "        async function convertToInteractive(key) {\n",
              "          const element = document.querySelector('#df-451ba167-2157-473f-ada7-f975cd82401f');\n",
              "          const dataTable =\n",
              "            await google.colab.kernel.invokeFunction('convertToInteractive',\n",
              "                                                     [key], {});\n",
              "          if (!dataTable) return;\n",
              "\n",
              "          const docLinkHtml = 'Like what you see? Visit the ' +\n",
              "            '<a target=\"_blank\" href=https://colab.research.google.com/notebooks/data_table.ipynb>data table notebook</a>'\n",
              "            + ' to learn more about interactive tables.';\n",
              "          element.innerHTML = '';\n",
              "          dataTable['output_type'] = 'display_data';\n",
              "          await google.colab.output.renderOutput(dataTable, element);\n",
              "          const docLink = document.createElement('div');\n",
              "          docLink.innerHTML = docLinkHtml;\n",
              "          element.appendChild(docLink);\n",
              "        }\n",
              "      </script>\n",
              "    </div>\n",
              "  </div>\n",
              "  "
            ]
          },
          "metadata": {},
          "execution_count": 5
        }
      ]
    },
    {
      "cell_type": "code",
      "source": [
        "# 행 수를 count\n",
        "m = len(nbastat)"
      ],
      "metadata": {
        "id": "1AyYzHiTUavM"
      },
      "execution_count": 143,
      "outputs": []
    },
    {
      "cell_type": "code",
      "source": [
        "# column들을 선택하기\n",
        "# FGA, 3PA, FTA -> PTS\n",
        "X = nbastat[['FGA','3PA','FTA']]\n",
        "X1 = nbastat[['FGA']]\n",
        "X2 = nbastat[['3PA']]\n",
        "X3 = nbastat[['FTA']]\n",
        "Y = nbastat[['PTS']]\n"
      ],
      "metadata": {
        "id": "t6DHfZbNT4tM"
      },
      "execution_count": 144,
      "outputs": []
    },
    {
      "cell_type": "code",
      "source": [
        "# 결측값을 처리하기\n",
        "X = X.fillna(0)\n",
        "X1 = X1.fillna(0)\n",
        "X2 = X2.fillna(0)\n",
        "X3 = X3.fillna(0)\n",
        "Y = Y.fillna(0)"
      ],
      "metadata": {
        "id": "_Uw_r4weUjTe"
      },
      "execution_count": 145,
      "outputs": []
    },
    {
      "cell_type": "code",
      "source": [
        "X = (np.array(X)).reshape(m,3)\n",
        "X1 = (np.array(X1)).reshape(m,1)\n",
        "X2 = (np.array(X2)).reshape(m,1)\n",
        "X3 = (np.array(X3)).reshape(m,1)\n",
        "y = (np.array(Y)).reshape(m,1)\n"
      ],
      "metadata": {
        "id": "aiVX6yzc-UrK"
      },
      "execution_count": 146,
      "outputs": []
    },
    {
      "cell_type": "code",
      "source": [
        "# [1, x1, x2, x3]으로 구성된 행렬 제작\n",
        "X0 = np.ones((m,1))\n",
        "Xb = np.c_[X0, X1, X2, X3]\n",
        "Xb"
      ],
      "metadata": {
        "id": "B4_Sb4FnvS4h",
        "colab": {
          "base_uri": "https://localhost:8080/"
        },
        "outputId": "483d226e-3ad9-475e-ce84-130fd285ae79"
      },
      "execution_count": 147,
      "outputs": [
        {
          "output_type": "execute_result",
          "data": {
            "text/plain": [
              "array([[ 1. , 19.3,  3.7, 11.9],\n",
              "       [ 1. , 18.6,  3.7, 11.6],\n",
              "       [ 1. , 21.3,  8. ,  6. ],\n",
              "       [ 1. , 21.8,  8.5,  7.4],\n",
              "       [ 1. , 20.4,  7.8,  7.2],\n",
              "       [ 1. , 20.2,  1.8,  7.9],\n",
              "       [ 1. , 20.7,  4.6,  7.3],\n",
              "       [ 1. , 21. ,  8.6,  6.3],\n",
              "       [ 1. , 17.2,  4.1,  6. ],\n",
              "       [ 1. , 20.7,  7.3,  4.8],\n",
              "       [ 1. , 20.5,  9.9,  4.4],\n",
              "       [ 1. , 19.1, 11.7,  4.7],\n",
              "       [ 1. , 16.5,  5. ,  6.5],\n",
              "       [ 1. , 18.1,  7.2,  5.1],\n",
              "       [ 1. , 18.7,  5.4,  7.3],\n",
              "       [ 1. , 18.5,  4.2,  5.9],\n",
              "       [ 1. , 18.4,  7.3,  4.8],\n",
              "       [ 1. , 18.2,  4.3,  5.5],\n",
              "       [ 1. , 15.6,  6.9,  8.3],\n",
              "       [ 1. , 18.9,  7.9,  2.4],\n",
              "       [ 1. , 17.3,  3.1,  5.4],\n",
              "       [ 1. , 16.8,  6.8,  3.1],\n",
              "       [ 1. , 17.1, 10. ,  3.6],\n",
              "       [ 1. , 17.4,  8.5,  4. ],\n",
              "       [ 1. , 17.4,  6.8,  3.4],\n",
              "       [ 1. , 18.2,  4.1,  3.4],\n",
              "       [ 1. , 15.5,  6.5,  4.6],\n",
              "       [ 1. , 17.3,  5.3,  5.6],\n",
              "       [ 1. , 15.3,  5.8,  4.1],\n",
              "       [ 1. , 16.6,  7.2,  3.5],\n",
              "       [ 1. , 16.3,  8.3,  2.6],\n",
              "       [ 1. , 16.5,  5.7,  5.4],\n",
              "       [ 1. , 12.4,  2.1,  5.3],\n",
              "       [ 1. , 15.3,  8.2,  3.7],\n",
              "       [ 1. , 14.4,  4.7,  2.7],\n",
              "       [ 1. , 15.5,  8. ,  2.9],\n",
              "       [ 1. , 13.4,  6.8,  3.6],\n",
              "       [ 1. , 16.1,  4.7,  1.6],\n",
              "       [ 1. , 15.7,  3.3,  5.2],\n",
              "       [ 1. , 12.9,  2.3,  3.9],\n",
              "       [ 1. , 14.5,  3.6,  3.2],\n",
              "       [ 1. , 14.5,  7. ,  2. ],\n",
              "       [ 1. , 13.1,  4.9,  5. ],\n",
              "       [ 1. , 13.3,  3.8,  3.4],\n",
              "       [ 1. , 14. ,  7.8,  2. ],\n",
              "       [ 1. , 14. ,  5.5,  3. ],\n",
              "       [ 1. , 14.2,  7.7,  3.7],\n",
              "       [ 1. , 14.7,  6.3,  4.1],\n",
              "       [ 1. , 16.4,  7. ,  2.2],\n",
              "       [ 1. , 12.9,  7. ,  3.1],\n",
              "       [ 1. , 14.1,  5.6,  3.3],\n",
              "       [ 1. , 10.9,  4.7,  5.7],\n",
              "       [ 1. , 11.8,  0.3,  2.4],\n",
              "       [ 1. , 16. ,  6. ,  2.4],\n",
              "       [ 1. , 13.4,  5.1,  4.5],\n",
              "       [ 1. , 13.1,  4.9,  2.9],\n",
              "       [ 1. , 14. ,  7.5,  3.1],\n",
              "       [ 1. , 11.9,  3.3,  3.1],\n",
              "       [ 1. ,  9.7,  0.2,  4.2],\n",
              "       [ 1. , 12.8,  3.1,  2.5],\n",
              "       [ 1. , 14. ,  7.7,  2.2],\n",
              "       [ 1. , 13.1,  7.7,  2.6],\n",
              "       [ 1. , 13.3,  6.4,  3.3],\n",
              "       [ 1. ,  7.8,  0. ,  6.4],\n",
              "       [ 1. , 12.5,  3.5,  2.8],\n",
              "       [ 1. , 13.3,  8.9,  1.6],\n",
              "       [ 1. , 12.3,  4.9,  1.8],\n",
              "       [ 1. , 12.6,  2.5,  2.9],\n",
              "       [ 1. , 11.9,  5.8,  1.5],\n",
              "       [ 1. , 11.9,  5.2,  2.3],\n",
              "       [ 1. , 12.1,  1.4,  3.7],\n",
              "       [ 1. , 10.7,  1. ,  4.8],\n",
              "       [ 1. , 11.5,  3.1,  3.2],\n",
              "       [ 1. , 12.7,  6. ,  1.9],\n",
              "       [ 1. , 10.9,  3.4,  3.2],\n",
              "       [ 1. , 10.3,  3.8,  3.9],\n",
              "       [ 1. , 12.2,  7.6,  1.5],\n",
              "       [ 1. , 10.8,  3.5,  3. ],\n",
              "       [ 1. , 10.4,  3.9,  1.7],\n",
              "       [ 1. , 12. ,  7.1,  1.5],\n",
              "       [ 1. ,  8.3,  0.3,  4.5],\n",
              "       [ 1. , 11.7,  4. ,  2.9],\n",
              "       [ 1. , 11.4,  5.1,  3.7],\n",
              "       [ 1. , 10.1,  5.4,  2.5],\n",
              "       [ 1. , 10.6,  5.9,  2.5],\n",
              "       [ 1. , 10.3,  6.2,  3. ],\n",
              "       [ 1. ,  9.8,  0. ,  2.9],\n",
              "       [ 1. , 10.8,  5.7,  2.3],\n",
              "       [ 1. , 10.8,  5.9,  1.7],\n",
              "       [ 1. , 11.1,  5.1,  3.1],\n",
              "       [ 1. , 11.3,  4.6,  2. ],\n",
              "       [ 1. , 10.6,  4.3,  1.1],\n",
              "       [ 1. , 10.3,  5.7,  1.4],\n",
              "       [ 1. ,  9.2,  5.9,  1.7],\n",
              "       [ 1. ,  9.8,  5.9,  2.8],\n",
              "       [ 1. , 11.4,  7.9,  1.9],\n",
              "       [ 1. , 10.4,  5.3,  1.9],\n",
              "       [ 1. , 12.4,  3.9,  1.5],\n",
              "       [ 1. , 10.5,  7.3,  0.8],\n",
              "       [ 1. , 11.2,  5.1,  2.1],\n",
              "       [ 1. ,  9.5,  2.7,  2.6],\n",
              "       [ 1. , 11.1,  8.3,  0.7],\n",
              "       [ 1. , 10. ,  4.8,  2.7],\n",
              "       [ 1. , 10.2,  5.4,  0.6],\n",
              "       [ 1. , 10.5,  5.1,  1.1],\n",
              "       [ 1. ,  9. ,  6. ,  1. ],\n",
              "       [ 1. , 11.2,  5.5,  1.8],\n",
              "       [ 1. ,  9.1,  5. ,  1. ],\n",
              "       [ 1. ,  9.1,  4.9,  1.6],\n",
              "       [ 1. ,  9.5,  8.1,  0.9],\n",
              "       [ 1. ,  8.9,  6.2,  1.1],\n",
              "       [ 1. , 10.3,  3.7,  1.7],\n",
              "       [ 1. ,  9.1,  5.7,  2. ],\n",
              "       [ 1. ,  9.1,  1.6,  2.4],\n",
              "       [ 1. ,  8.7,  4.5,  3.2],\n",
              "       [ 1. ,  8.3,  4.2,  2.5],\n",
              "       [ 1. ,  8.1,  0. ,  2.3],\n",
              "       [ 1. ,  7.4,  6.2,  3. ],\n",
              "       [ 1. ,  8.6,  5.3,  1.1],\n",
              "       [ 1. ,  8.3,  6.5,  0.9],\n",
              "       [ 1. ,  8.6,  2.7,  1.8],\n",
              "       [ 1. ,  9.3,  3.8,  2.3],\n",
              "       [ 1. ,  9.2,  6.7,  0.8],\n",
              "       [ 1. ,  6.9,  0.4,  2.1],\n",
              "       [ 1. ,  8.5,  3.7,  1. ],\n",
              "       [ 1. ,  7.2,  2.2,  2.7],\n",
              "       [ 1. ,  6.3,  0. ,  3.1],\n",
              "       [ 1. ,  8.5,  4. ,  1.5],\n",
              "       [ 1. , 10.3,  4.3,  0.8],\n",
              "       [ 1. ,  8.3,  3.8,  2.3],\n",
              "       [ 1. ,  8.6,  4.8,  2.1],\n",
              "       [ 1. ,  8.9,  4.2,  2.1],\n",
              "       [ 1. ,  7.2,  2.7,  3.1],\n",
              "       [ 1. ,  8.1,  4.8,  1.4],\n",
              "       [ 1. ,  7.7,  5.7,  0.7],\n",
              "       [ 1. ,  6.1,  0. ,  1.6],\n",
              "       [ 1. ,  8.7,  3. ,  2.2],\n",
              "       [ 1. ,  9.3,  4.7,  1.6],\n",
              "       [ 1. ,  7.4,  2. ,  2.1],\n",
              "       [ 1. ,  8.2,  5.4,  1.4],\n",
              "       [ 1. ,  8.8,  3. ,  1.9],\n",
              "       [ 1. ,  7.7,  5.2,  0.9],\n",
              "       [ 1. ,  7. ,  2.6,  1.6],\n",
              "       [ 1. ,  6.3,  0.1,  1.9],\n",
              "       [ 1. ,  7.8,  3.4,  1.5],\n",
              "       [ 1. ,  8.1,  3.7,  1. ],\n",
              "       [ 1. ,  9.1,  4.1,  1.3],\n",
              "       [ 1. ,  7.6,  4.1,  1.2],\n",
              "       [ 1. ,  7.9,  4.9,  1.5],\n",
              "       [ 1. ,  6.8,  2.5,  2.5],\n",
              "       [ 1. ,  5.7,  0. ,  1.9],\n",
              "       [ 1. ,  6.8,  2.7,  2.4],\n",
              "       [ 1. ,  8.1,  2.9,  1.5],\n",
              "       [ 1. ,  6.4,  2.2,  2.5],\n",
              "       [ 1. ,  7.8,  4.9,  0.9],\n",
              "       [ 1. ,  6.9,  1.4,  3.1],\n",
              "       [ 1. ,  5.2,  0.6,  2.6],\n",
              "       [ 1. ,  6.7,  2. ,  1.6],\n",
              "       [ 1. ,  6.8,  3.7,  1.7],\n",
              "       [ 1. ,  6.6,  2.4,  1. ],\n",
              "       [ 1. ,  7.6,  6. ,  1. ],\n",
              "       [ 1. ,  7.9,  1.6,  1.8],\n",
              "       [ 1. ,  5.9,  2.9,  2. ],\n",
              "       [ 1. ,  6.8,  4.8,  0.6],\n",
              "       [ 1. ,  6.2,  2.1,  2. ],\n",
              "       [ 1. ,  7.9,  4.9,  0.9],\n",
              "       [ 1. ,  4.7,  0. ,  2.4],\n",
              "       [ 1. ,  5.2,  0. ,  2.5],\n",
              "       [ 1. ,  7. ,  0.4,  1.5],\n",
              "       [ 1. ,  6.5,  2.4,  1.4],\n",
              "       [ 1. ,  7.6,  4.3,  1.3],\n",
              "       [ 1. ,  7.3,  2.7,  0.8],\n",
              "       [ 1. ,  7.2,  5.5,  0.8],\n",
              "       [ 1. ,  6.5,  3.6,  0.9],\n",
              "       [ 1. ,  6.3,  2.4,  1.7],\n",
              "       [ 1. ,  6.2,  2.4,  1.7],\n",
              "       [ 1. ,  6.3,  2.9,  0.9],\n",
              "       [ 1. ,  4.6,  0.5,  2.3],\n",
              "       [ 1. ,  6.7,  1.8,  1.6],\n",
              "       [ 1. ,  6.5,  1.1,  1.4],\n",
              "       [ 1. ,  5.7,  3.8,  0.8],\n",
              "       [ 1. ,  5.1,  0.2,  1.8],\n",
              "       [ 1. ,  6.6,  3.1,  2.1],\n",
              "       [ 1. ,  7.4,  3.8,  0.5],\n",
              "       [ 1. ,  6.6,  3.8,  0.6],\n",
              "       [ 1. ,  6.8,  4.6,  0.9],\n",
              "       [ 1. ,  6.8,  4.6,  0.9],\n",
              "       [ 1. ,  6.6,  4.6,  1.3],\n",
              "       [ 1. ,  6.3,  2.7,  1.6],\n",
              "       [ 1. ,  6.5,  2.5,  1.2],\n",
              "       [ 1. ,  5.3,  3.4,  1. ],\n",
              "       [ 1. ,  6.1,  3.1,  1. ],\n",
              "       [ 1. ,  5.2,  1.6,  1.6],\n",
              "       [ 1. ,  6.2,  3.7,  0.8],\n",
              "       [ 1. ,  6.5,  2.5,  1.1],\n",
              "       [ 1. ,  6.7,  1.6,  1.5],\n",
              "       [ 1. ,  5.2,  0. ,  2.7],\n",
              "       [ 1. ,  5.5,  1.8,  1.6],\n",
              "       [ 1. ,  6.7,  2.7,  1.9],\n",
              "       [ 1. ,  6.1,  4.3,  1.1],\n",
              "       [ 1. ,  5.4,  0. ,  2.1],\n",
              "       [ 1. ,  0. ,  0. ,  0. ],\n",
              "       [ 1. ,  4.8,  1.8,  0.9],\n",
              "       [ 1. ,  4.9,  0.2,  1.7],\n",
              "       [ 1. ,  6.7,  2.8,  0.7],\n",
              "       [ 1. ,  5.3,  3.2,  1.1],\n",
              "       [ 1. ,  5.1,  2. ,  1.4],\n",
              "       [ 1. ,  4.8,  2.6,  1.5],\n",
              "       [ 1. ,  4.5,  0. ,  2.4],\n",
              "       [ 1. ,  5.8,  1.9,  1.3],\n",
              "       [ 1. ,  5.6,  2.9,  0.8],\n",
              "       [ 1. ,  5.3,  1.6,  1. ],\n",
              "       [ 1. ,  5.7,  2.6,  1.4],\n",
              "       [ 1. ,  5.9,  3.5,  0.3],\n",
              "       [ 1. ,  4.7,  0. ,  1.6],\n",
              "       [ 1. ,  5.5,  3.6,  0.7],\n",
              "       [ 1. ,  4.3,  0.6,  1.3],\n",
              "       [ 1. ,  5.4,  1.5,  1. ],\n",
              "       [ 1. ,  6.3,  2.4,  1.1],\n",
              "       [ 1. ,  5.3,  4.4,  0.2],\n",
              "       [ 1. ,  4.8,  2.1,  1.1],\n",
              "       [ 1. ,  5.9,  0.9,  0.5],\n",
              "       [ 1. ,  4.5,  0.1,  1.2],\n",
              "       [ 1. ,  4.7,  2.3,  0.6],\n",
              "       [ 1. ,  3.9,  0.2,  1.6],\n",
              "       [ 1. ,  3.7,  1.9,  1.5],\n",
              "       [ 1. ,  5. ,  3.1,  0.7],\n",
              "       [ 1. ,  4.2,  1. ,  0.9],\n",
              "       [ 1. ,  4.7,  3. ,  1.3],\n",
              "       [ 1. ,  4.3,  2.8,  0.6],\n",
              "       [ 1. ,  4.8,  3. ,  0.3],\n",
              "       [ 1. ,  3.1,  0.2,  2. ],\n",
              "       [ 1. ,  4.3,  0.5,  1.1],\n",
              "       [ 1. ,  3.9,  0.6,  0.6],\n",
              "       [ 1. ,  4.3,  1. ,  0.9],\n",
              "       [ 1. ,  4.4,  2.5,  0.7],\n",
              "       [ 1. ,  3.7,  1. ,  0.7],\n",
              "       [ 1. ,  3.5,  1.8,  0.7],\n",
              "       [ 1. ,  3.9,  2.7,  0.7],\n",
              "       [ 1. ,  4. ,  2. ,  0.4],\n",
              "       [ 1. ,  3.3,  1.3,  1. ],\n",
              "       [ 1. ,  3.4,  1.4,  0.8],\n",
              "       [ 1. ,  3.9,  2. ,  0.5],\n",
              "       [ 1. ,  3.7,  2.7,  0.3],\n",
              "       [ 1. ,  3.3,  2.5,  0.5],\n",
              "       [ 1. ,  3.1,  2.4,  0.1],\n",
              "       [ 1. ,  3.4,  0.9,  0.7],\n",
              "       [ 1. ,  2.5,  0.4,  0.8],\n",
              "       [ 1. ,  3.1,  1.2,  0.7]])"
            ]
          },
          "metadata": {},
          "execution_count": 147
        }
      ]
    },
    {
      "cell_type": "code",
      "source": [
        "# 경사하강법 준비\n",
        "learning_rate = 0.0001\n",
        "n_item = 200\n"
      ],
      "metadata": {
        "id": "EzzvP6IF4VKq"
      },
      "execution_count": 148,
      "outputs": []
    },
    {
      "cell_type": "code",
      "source": [
        "# Theta에 대한 값을 초기화\n",
        "theta = np.zeros((4,1))\n",
        "gradients = np.zeros((4,1))"
      ],
      "metadata": {
        "id": "AyDrLt2Z4fxu"
      },
      "execution_count": 149,
      "outputs": []
    },
    {
      "cell_type": "code",
      "source": [
        "for i in range(n_item):\n",
        "  gradients = (1.0/m)*Xb.T.dot(Xb.dot(theta)-Y)\n",
        "  theta = theta - learning_rate*gradients\n",
        "  "
      ],
      "metadata": {
        "id": "flYUFWe27g-4"
      },
      "execution_count": 150,
      "outputs": []
    },
    {
      "cell_type": "code",
      "source": [
        "theta"
      ],
      "metadata": {
        "colab": {
          "base_uri": "https://localhost:8080/"
        },
        "id": "O78T5_CS798Y",
        "outputId": "51486d57-f29a-422f-9871-613658d20457"
      },
      "execution_count": 151,
      "outputs": [
        {
          "output_type": "execute_result",
          "data": {
            "text/plain": [
              "array([[0.08118405],\n",
              "       [0.96863592],\n",
              "       [0.35063774],\n",
              "       [0.27289509]])"
            ]
          },
          "metadata": {},
          "execution_count": 151
        }
      ]
    },
    {
      "cell_type": "code",
      "source": [
        "import matplotlib.pyplot as plt\n",
        "Y_pred = Xb.dot(theta)\n",
        "plt.plot(X1,Y,'.b')\n",
        "plt.plot(X2,Y,'.b')\n",
        "plt.plot(X3,Y,'.b')\n",
        "plt.plot(X,Y_pred,color='Red')\n"
      ],
      "metadata": {
        "id": "FOgAZIKg8Djn",
        "colab": {
          "base_uri": "https://localhost:8080/",
          "height": 318
        },
        "outputId": "0d93457f-d1eb-4e3e-b882-22e23c7d3931"
      },
      "execution_count": 152,
      "outputs": [
        {
          "output_type": "execute_result",
          "data": {
            "text/plain": [
              "[<matplotlib.lines.Line2D at 0x7f71c6572110>,\n",
              " <matplotlib.lines.Line2D at 0x7f71c6572350>,\n",
              " <matplotlib.lines.Line2D at 0x7f71c6572510>]"
            ]
          },
          "metadata": {},
          "execution_count": 152
        },
        {
          "output_type": "display_data",
          "data": {
            "text/plain": [
              "<Figure size 432x288 with 1 Axes>"
            ],
            "image/png": "[encoded data removed]"
          },
          "metadata": {
            "needs_background": "light"
          }
        }
      ]
    },
    {
      "cell_type": "code",
      "source": [
        "Xtest = np.array([[1,19.3, 3.7, 11/9]])\n",
        "np.dot(Xtest, theta)"
      ],
      "metadata": {
        "colab": {
          "base_uri": "https://localhost:8080/"
        },
        "id": "OCbElAsmMM-6",
        "outputId": "43823802-b8cd-4a71-f5e3-1caad5d145a4"
      },
      "execution_count": 153,
      "outputs": [
        {
          "output_type": "execute_result",
          "data": {
            "text/plain": [
              "array([[20.40675534]])"
            ]
          },
          "metadata": {},
          "execution_count": 153
        }
      ]
    },
    {
      "cell_type": "markdown",
      "source": [
        "**2.** nbastat.csv에서 야투 성공률(FG%), 3점슛 성공률(3P%), 자유투 성공률(FT%)와 경기 출장 시간(MIN)으로 부터 득점수(PTS)를 예측하는 모델을 만들고 이를 훈련시키시오"
      ],
      "metadata": {
        "id": "jGGf-lMkBw6l"
      }
    },
    {
      "cell_type": "code",
      "source": [
        "# 행 수를 count\n",
        "m = len(nbastat)"
      ],
      "metadata": {
        "id": "61OnXPmnCdPT"
      },
      "execution_count": 154,
      "outputs": []
    },
    {
      "cell_type": "code",
      "source": [
        "# column들을 선택하기\n",
        "# FG%, 3P%, FT%, MIN -> PTS\n",
        "X1 = nbastat[['MIN']]\n",
        "X2 = nbastat[['FG%']]\n",
        "X3 = nbastat[['3P%']]\n",
        "X4 = nbastat[['FT%']]\n",
        "Y = nbastat[['PTS']]"
      ],
      "metadata": {
        "id": "ZeN9pQIvCNlY"
      },
      "execution_count": 155,
      "outputs": []
    },
    {
      "cell_type": "code",
      "source": [
        "# 결측값을 처리하기\n",
        "X1 = X1.fillna(0)\n",
        "X2 = X2.fillna(0)\n",
        "X3 = X3.fillna(0)\n",
        "X4 = X4.fillna(0)\n",
        "Y = Y.fillna(0)"
      ],
      "metadata": {
        "id": "aHNkCWHNCkh9"
      },
      "execution_count": 156,
      "outputs": []
    },
    {
      "cell_type": "code",
      "source": [
        "X1 = (np.array(X1)).reshape(m,1)\n",
        "X2 = (np.array(X2)).reshape(m,1)\n",
        "X3 = (np.array(X3)).reshape(m,1)\n",
        "X4 = (np.array(X4)).reshape(m,1)\n",
        "y = (np.array(Y)).reshape(m,1)"
      ],
      "metadata": {
        "id": "tWyPXTxiCrxz"
      },
      "execution_count": 157,
      "outputs": []
    },
    {
      "cell_type": "code",
      "source": [
        "# [1, x1 X x2, x1 X x3, x1 X x4]으로 구성된 행렬 제작\n",
        "X0 = np.ones((m,1))\n",
        "Xb = np.c_[X0, X1*X2*1/100, X1*X3*1/100, X1*X4*1/100]\n",
        "Xb"
      ],
      "metadata": {
        "colab": {
          "base_uri": "https://localhost:8080/"
        },
        "id": "SJ7GwhVkDHM4",
        "outputId": "2d7ae375-c878-4db1-95b1-da991fe07b09"
      },
      "execution_count": 166,
      "outputs": [
        {
          "output_type": "execute_result",
          "data": {
            "text/plain": [
              "array([[ 1.    , 16.3326, 12.191 , 27.4214],\n",
              "       [ 1.    , 17.9963,  9.87  , 23.7209],\n",
              "       [ 1.    , 19.188 , 13.1733, 28.044 ],\n",
              "       [ 1.    , 16.2435, 12.1737, 26.5608],\n",
              "       [ 1.    , 15.9144, 13.262 , 31.41  ],\n",
              "       [ 1.    , 18.1944, 12.8516, 31.4431],\n",
              "       [ 1.    , 16.4169, 11.3553, 25.3746],\n",
              "       [ 1.    , 15.9796, 12.2668, 31.0856],\n",
              "       [ 1.    , 18.942 , 11.682 , 26.664 ],\n",
              "       [ 1.    , 15.6408, 12.8968, 29.7038],\n",
              "       [ 1.    , 15.1536, 12.0624, 28.2576],\n",
              "       [ 1.    , 15.0765, 13.11  , 31.8435],\n",
              "       [ 1.    , 17.7215, 13.668 , 27.6375],\n",
              "       [ 1.    , 16.7736, 13.7808, 29.9628],\n",
              "       [ 1.    , 15.615 , 10.0977, 28.107 ],\n",
              "       [ 1.    , 16.6969, 10.4841, 26.475 ],\n",
              "       [ 1.    , 15.4466, 11.4244, 25.7218],\n",
              "       [ 1.    , 15.8004, 11.457 , 27.9072],\n",
              "       [ 1.    , 15.4336, 12.5398, 32.3512],\n",
              "       [ 1.    , 16.2624, 13.6928, 24.288 ],\n",
              "       [ 1.    , 18.2736, 13.4608, 27.9744],\n",
              "       [ 1.    , 16.4736, 13.2704, 32.1376],\n",
              "       [ 1.    , 15.6591, 14.859 , 33.147 ],\n",
              "       [ 1.    , 14.7833, 12.0393, 26.6168],\n",
              "       [ 1.    , 14.5304, 12.8904, 28.4376],\n",
              "       [ 1.    , 16.1008, 10.9652, 27.2742],\n",
              "       [ 1.    , 14.5275, 12.35  , 28.99  ],\n",
              "       [ 1.    , 14.839 , 11.1115, 27.335 ],\n",
              "       [ 1.    , 17.46  , 11.52  , 28.98  ],\n",
              "       [ 1.    , 13.482 , 11.9091, 27.8949],\n",
              "       [ 1.    , 15.062 , 12.852 , 28.56  ],\n",
              "       [ 1.    , 14.1515, 11.9691, 24.2451],\n",
              "       [ 1.    , 19.734 , 10.3845, 25.5645],\n",
              "       [ 1.    , 13.3308, 11.1734, 26.5328],\n",
              "       [ 1.    , 16.7166, 13.8528, 25.4079],\n",
              "       [ 1.    , 14.227 , 13.0819, 29.0786],\n",
              "       [ 1.    , 14.1522, 12.1128, 26.883 ],\n",
              "       [ 1.    , 15.9264, 10.2144, 25.536 ],\n",
              "       [ 1.    , 14.8176,  9.5011, 22.981 ],\n",
              "       [ 1.    , 16.4552, 11.0827, 25.2354],\n",
              "       [ 1.    , 16.992 , 12.744 , 30.0546],\n",
              "       [ 1.    , 13.62  , 12.54  , 26.79  ],\n",
              "       [ 1.    , 15.221 , 11.656 , 18.972 ],\n",
              "       [ 1.    , 17.2914, 14.7496, 30.8238],\n",
              "       [ 1.    , 13.0685, 11.9475, 26.196 ],\n",
              "       [ 1.    , 14.946 , 12.7518, 20.034 ],\n",
              "       [ 1.    , 13.1704, 10.8232, 27.4818],\n",
              "       [ 1.    , 12.8444, 11.084 , 27.9382],\n",
              "       [ 1.    , 12.3948, 10.4855, 26.0416],\n",
              "       [ 1.    , 13.224 , 10.469 , 26.535 ],\n",
              "       [ 1.    , 15.1636, 11.3226, 23.9144],\n",
              "       [ 1.    , 16.0347, 14.0346, 28.2387],\n",
              "       [ 1.    , 18.9042,  9.7902, 21.4914],\n",
              "       [ 1.    , 13.1625, 10.4325, 27.755 ],\n",
              "       [ 1.    , 11.4675,  8.635 , 22.22  ],\n",
              "       [ 1.    , 14.8356, 13.0287, 23.6165],\n",
              "       [ 1.    , 13.4524, 11.8638, 27.6484],\n",
              "       [ 1.    , 16.2008, 11.2112, 24.4244],\n",
              "       [ 1.    , 21.8671,  3.23  , 22.8684],\n",
              "       [ 1.    , 16.1322, 12.236 , 26.4684],\n",
              "       [ 1.    , 11.0088,  8.3952, 22.308 ],\n",
              "       [ 1.    , 12.0612,  9.4944, 18.354 ],\n",
              "       [ 1.    , 12.9065, 10.1386, 24.8489],\n",
              "       [ 1.    , 22.752 ,  0.    , 22.08  ],\n",
              "       [ 1.    , 14.7572, 11.534 , 26.86  ],\n",
              "       [ 1.    , 12.2915, 11.0715, 26.6875],\n",
              "       [ 1.    , 13.9876, 11.7045, 21.7328],\n",
              "       [ 1.    , 17.444 , 11.2496, 26.0592],\n",
              "       [ 1.    , 16.5385, 14.0492, 29.6329],\n",
              "       [ 1.    , 16.3917, 14.6016, 29.2383],\n",
              "       [ 1.    , 17.271 ,  8.8578, 23.1534],\n",
              "       [ 1.    , 15.087 ,  7.5576, 19.458 ],\n",
              "       [ 1.    , 16.071 , 10.89  , 27.819 ],\n",
              "       [ 1.    , 13.9163, 11.3169, 25.2015],\n",
              "       [ 1.    , 15.4364,  9.834 , 21.1282],\n",
              "       [ 1.    , 16.4176, 11.0885, 25.0236],\n",
              "       [ 1.    , 12.6225, 11.7315, 20.9979],\n",
              "       [ 1.    , 15.9317,  9.8595, 23.0994],\n",
              "       [ 1.    , 18.6381, 13.0923, 29.6244],\n",
              "       [ 1.    , 12.4785, 10.2365, 24.898 ],\n",
              "       [ 1.    , 15.5364,  5.687 , 17.3272],\n",
              "       [ 1.    , 12.556 ,  9.8696, 24.6448],\n",
              "       [ 1.    , 12.2816, 10.184 , 23.8944],\n",
              "       [ 1.    , 14.0304, 12.0768, 23.0288],\n",
              "       [ 1.    , 11.7838, 10.2676, 22.0514],\n",
              "       [ 1.    ,  9.3462,  8.6136, 18.9366],\n",
              "       [ 1.    , 18.1624, 29.2   , 14.4248],\n",
              "       [ 1.    , 12.0414, 11.4774, 23.406 ],\n",
              "       [ 1.    , 12.5607, 11.2119, 23.9412],\n",
              "       [ 1.    , 12.2056,  8.6724, 25.112 ],\n",
              "       [ 1.    , 12.096 , 10.332 , 22.512 ],\n",
              "       [ 1.    , 14.67  , 11.67  , 25.35  ],\n",
              "       [ 1.    , 12.8064, 10.8744, 21.1692],\n",
              "       [ 1.    , 12.4925, 11.7824, 22.9599],\n",
              "       [ 1.    , 14.2272, 11.8674, 29.1726],\n",
              "       [ 1.    , 10.7876, 10.2512, 24.7638],\n",
              "       [ 1.    , 12.57  , 11.76  , 26.91  ],\n",
              "       [ 1.    , 13.1985,  8.2845, 22.3335],\n",
              "       [ 1.    , 12.54  , 12.42  , 24.33  ],\n",
              "       [ 1.    ,  9.5472,  7.4412, 18.2286],\n",
              "       [ 1.    , 13.6652,  8.0969, 19.0183],\n",
              "       [ 1.    ,  9.828 ,  9.45  , 19.4292],\n",
              "       [ 1.    , 13.8416, 10.9224, 26.3056],\n",
              "       [ 1.    , 13.452 , 11.269 , 23.4525],\n",
              "       [ 1.    , 11.4543,  9.1848, 21.7338],\n",
              "       [ 1.    , 12.3372, 12.558 , 24.5364],\n",
              "       [ 1.    ,  8.9012,  7.4256, 17.5644],\n",
              "       [ 1.    , 11.088 , 10.128 , 18.816 ],\n",
              "       [ 1.    , 12.5554, 11.154 , 24.9106],\n",
              "       [ 1.    , 10.5336,  9.7356, 22.3972],\n",
              "       [ 1.    , 11.9232, 11.0676, 23.6532],\n",
              "       [ 1.    ,  9.0132,  7.5258, 18.8034],\n",
              "       [ 1.    ,  9.706 ,  8.165 , 14.927 ],\n",
              "       [ 1.    , 10.8624,  5.4093, 14.235 ],\n",
              "       [ 1.    , 10.4328, 10.5984, 22.6596],\n",
              "       [ 1.    , 10.2789,  9.4041, 21.87  ],\n",
              "       [ 1.    , 16.5688,  0.    , 13.1216],\n",
              "       [ 1.    , 10.9752,  9.7916, 21.5469],\n",
              "       [ 1.    , 15.3052, 12.8152, 22.41  ],\n",
              "       [ 1.    , 10.2102,  9.471 , 17.9256],\n",
              "       [ 1.    , 13.862 , 10.585 , 22.243 ],\n",
              "       [ 1.    , 11.6901,  8.4258, 19.1952],\n",
              "       [ 1.    , 11.3145, 10.3455, 24.111 ],\n",
              "       [ 1.    , 12.6682,  3.88  , 12.7652],\n",
              "       [ 1.    , 12.4061,  9.4017, 21.1603],\n",
              "       [ 1.    , 12.7428,  7.4046, 20.4918],\n",
              "       [ 1.    , 15.498 ,  0.    , 17.958 ],\n",
              "       [ 1.    , 13.2114,  9.2247, 24.4731],\n",
              "       [ 1.    , 10.496 ,  8.0896, 14.0544],\n",
              "       [ 1.    ,  8.3628,  7.4313, 18.6714],\n",
              "       [ 1.    ,  8.426 ,  7.502 , 20.108 ],\n",
              "       [ 1.    ,  9.2104,  6.9136, 20.0448],\n",
              "       [ 1.    ,  9.1762,  6.0528, 15.2096],\n",
              "       [ 1.    , 12.0045,  9.699 , 18.762 ],\n",
              "       [ 1.    , 12.609 , 10.989 , 21.897 ],\n",
              "       [ 1.    , 21.87  ,  0.    , 21.57  ],\n",
              "       [ 1.    , 10.6092,  7.8876, 19.1772],\n",
              "       [ 1.    ,  8.6625,  7.5825, 16.335 ],\n",
              "       [ 1.    , 14.6587, 10.4146, 25.6753],\n",
              "       [ 1.    , 11.4898,  9.7918, 22.5834],\n",
              "       [ 1.    , 10.6398,  6.9647, 19.9432],\n",
              "       [ 1.    ,  9.9992,  9.1408, 20.3   ],\n",
              "       [ 1.    , 11.742 ,  9.0288, 17.2368],\n",
              "       [ 1.    ,  9.9695,  3.925 , 11.0214],\n",
              "       [ 1.    , 10.449 ,  9.9144, 21.0681],\n",
              "       [ 1.    , 11.9799,  8.1693, 20.88  ],\n",
              "       [ 1.    ,  8.36  ,  7.59  , 17.116 ],\n",
              "       [ 1.    ,  7.6718,  7.4048, 16.02  ],\n",
              "       [ 1.    ,  7.0409,  6.6789, 15.4031],\n",
              "       [ 1.    , 13.818 ,  9.7314, 23.3436],\n",
              "       [ 1.    , 13.8852,  0.    , 14.4942],\n",
              "       [ 1.    ,  9.7104,  5.8548, 15.708 ],\n",
              "       [ 1.    ,  7.9856,  4.9864, 15.2904],\n",
              "       [ 1.    ,  8.3476,  5.4612, 11.4636],\n",
              "       [ 1.    ,  9.996 ,  8.7584, 19.2304],\n",
              "       [ 1.    ,  9.118 ,  4.9082, 13.3084],\n",
              "       [ 1.    , 12.0065,  5.994 , 14.097 ],\n",
              "       [ 1.    , 11.024 ,  7.2384, 13.208 ],\n",
              "       [ 1.    , 10.3194,  8.4708, 20.2176],\n",
              "       [ 1.    , 14.229 , 10.719 , 18.144 ],\n",
              "       [ 1.    ,  6.9936,  6.5472, 15.1776],\n",
              "       [ 1.    , 10.0688,  8.3752, 13.688 ],\n",
              "       [ 1.    ,  6.8408,  4.5288, 10.8528],\n",
              "       [ 1.    , 11.3954,  9.8141, 15.6875],\n",
              "       [ 1.    ,  7.824 ,  5.568 , 12.208 ],\n",
              "       [ 1.    ,  9.2202,  7.502 , 20.691 ],\n",
              "       [ 1.    , 19.3521,  0.    , 12.2237],\n",
              "       [ 1.    , 11.8118,  0.    , 11.3204],\n",
              "       [ 1.    , 13.2354,  3.9732, 17.673 ],\n",
              "       [ 1.    ,  7.469 ,  5.8366, 11.7194],\n",
              "       [ 1.    ,  8.8692,  6.6348, 18.6048],\n",
              "       [ 1.    ,  9.1553,  7.4095, 16.849 ],\n",
              "       [ 1.    , 10.586 ,  9.246 , 21.9224],\n",
              "       [ 1.    ,  9.933 ,  7.998 , 16.77  ],\n",
              "       [ 1.    , 12.5223, 10.7601, 18.6633],\n",
              "       [ 1.    , 11.1104, 10.4904, 21.6008],\n",
              "       [ 1.    , 13.818 , 12.126 , 20.1348],\n",
              "       [ 1.    , 13.8436,  7.8652, 16.218 ],\n",
              "       [ 1.    ,  9.4599,  5.796 , 15.5871],\n",
              "       [ 1.    , 11.3912,  8.1896, 17.4   ],\n",
              "       [ 1.    , 15.4488, 13.0624, 25.12  ],\n",
              "       [ 1.    , 10.7822,  6.5065, 10.8498],\n",
              "       [ 1.    ,  8.6366,  7.3129, 14.4088],\n",
              "       [ 1.    ,  7.8336,  6.72  , 15.5136],\n",
              "       [ 1.    ,  9.8496,  6.8472, 16.8696],\n",
              "       [ 1.    , 11.0763,  9.6255, 23.157 ],\n",
              "       [ 1.    , 11.0763,  9.6255, 23.157 ],\n",
              "       [ 1.    ,  7.5888,  7.4052, 17.2788],\n",
              "       [ 1.    , 10.1821,  7.2696, 17.7313],\n",
              "       [ 1.    ,  7.6712,  5.246 , 13.1236],\n",
              "       [ 1.    , 11.4708, 10.0725, 21.8988],\n",
              "       [ 1.    ,  8.8902,  6.9498, 16.929 ],\n",
              "       [ 1.    , 13.0922,  9.1476, 20.328 ],\n",
              "       [ 1.    ,  9.5675,  7.353 , 17.9955],\n",
              "       [ 1.    , 10.0959,  7.4241, 11.9355],\n",
              "       [ 1.    ,  9.309 ,  6.6554, 12.84  ],\n",
              "       [ 1.    , 14.7048,  0.    , 14.4408],\n",
              "       [ 1.    ,  7.6288,  3.5462, 11.0111],\n",
              "       [ 1.    ,  7.828 ,  7.3954, 12.566 ],\n",
              "       [ 1.    , 10.075 ,  8.525 , 17.975 ],\n",
              "       [ 1.    , 10.697 ,  0.    ,  9.576 ],\n",
              "       [ 1.    ,  0.    ,  0.    ,  0.    ],\n",
              "       [ 1.    , 10.4652,  6.2244,  9.8154],\n",
              "       [ 1.    , 15.1188,  4.3086, 16.7184],\n",
              "       [ 1.    ,  7.5945,  5.1606, 12.5172],\n",
              "       [ 1.    ,  7.5075,  6.204 , 12.309 ],\n",
              "       [ 1.    ,  7.8246,  4.293 , 14.4018],\n",
              "       [ 1.    , 10.7296,  7.1232, 18.7712],\n",
              "       [ 1.    , 16.1532,  0.    ,  9.324 ],\n",
              "       [ 1.    ,  5.7888,  4.9968, 12.6   ],\n",
              "       [ 1.    ,  9.0741,  6.4148, 15.022 ],\n",
              "       [ 1.    ,  7.7356,  6.4076, 14.1432],\n",
              "       [ 1.    ,  7.2906,  4.3152, 12.4584],\n",
              "       [ 1.    ,  9.4348,  8.702 , 20.0375],\n",
              "       [ 1.    , 12.2822,  0.    , 13.2153],\n",
              "       [ 1.    ,  9.1761,  7.4898, 15.5709],\n",
              "       [ 1.    ,  8.992 ,  7.312 , 12.752 ],\n",
              "       [ 1.    ,  9.3378,  5.516 , 10.4016],\n",
              "       [ 1.    ,  8.7237,  6.318 , 18.6381],\n",
              "       [ 1.    ,  8.619 ,  8.2433, 19.89  ],\n",
              "       [ 1.    ,  7.0824,  5.2728, 10.7796],\n",
              "       [ 1.    ,  6.832 ,  6.752 , 10.    ],\n",
              "       [ 1.    ,  6.976 ,  1.8304,  8.0896],\n",
              "       [ 1.    , 12.4838,  7.511 , 19.2178],\n",
              "       [ 1.    ,  7.9632,  1.44  , 10.8864],\n",
              "       [ 1.    ,  6.1087,  4.8133,  9.779 ],\n",
              "       [ 1.    ,  7.2387,  6.048 , 12.9087],\n",
              "       [ 1.    ,  8.1949,  5.5867, 11.3988],\n",
              "       [ 1.    ,  6.8808,  5.6964, 14.4572],\n",
              "       [ 1.    ,  8.7552,  6.8928, 12.8064],\n",
              "       [ 1.    ,  5.1084,  4.7601, 12.9   ],\n",
              "       [ 1.    ,  8.8948,  9.8716,  9.4128],\n",
              "       [ 1.    ,  7.35  ,  1.545 , 11.61  ],\n",
              "       [ 1.    , 10.2663,  7.6311, 10.98  ],\n",
              "       [ 1.    ,  6.6456,  4.0612,  9.2584],\n",
              "       [ 1.    ,  5.3448,  4.1072, 11.6008],\n",
              "       [ 1.    ,  7.676 ,  5.244 , 10.64  ],\n",
              "       [ 1.    ,  9.1   ,  7.28  , 10.738 ],\n",
              "       [ 1.    ,  4.864 ,  4.6848, 10.6112],\n",
              "       [ 1.    ,  6.9216,  5.8464, 12.768 ],\n",
              "       [ 1.    ,  6.7693,  4.309 ,  7.9369],\n",
              "       [ 1.    ,  7.884 ,  6.264 , 15.282 ],\n",
              "       [ 1.    ,  4.575 ,  4.148 , 11.6876],\n",
              "       [ 1.    ,  4.6374,  4.8863, 10.6503],\n",
              "       [ 1.    ,  4.06  ,  3.8396, 10.7068],\n",
              "       [ 1.    ,  6.1936,  5.5774, 15.8   ],\n",
              "       [ 1.    ,  4.6345,  2.99  ,  7.0725],\n",
              "       [ 1.    ,  6.3504,  2.6208, 10.5462],\n",
              "       [ 1.    ,  5.2745,  3.151 , 10.1791]])"
            ]
          },
          "metadata": {},
          "execution_count": 166
        }
      ]
    },
    {
      "cell_type": "code",
      "source": [
        "# 경사하강법 준비\n",
        "learning_rate = 0.0001\n",
        "n_item = 200\n"
      ],
      "metadata": {
        "id": "Z-h_4k11Dr12"
      },
      "execution_count": 167,
      "outputs": []
    },
    {
      "cell_type": "code",
      "source": [
        "# Theta에 대한 값을 초기화\n",
        "theta = np.zeros((4,1))\n",
        "gradients = np.zeros((4,1))"
      ],
      "metadata": {
        "id": "s5_eavMKDuf_"
      },
      "execution_count": 168,
      "outputs": []
    },
    {
      "cell_type": "code",
      "source": [
        "for i in range(n_item):\n",
        "  gradients = (1.0/m)*Xb.T.dot(Xb.dot(theta)-Y)\n",
        "  theta = theta - learning_rate*gradients  "
      ],
      "metadata": {
        "id": "9-bTfmXYEM3N"
      },
      "execution_count": 169,
      "outputs": []
    },
    {
      "cell_type": "code",
      "source": [
        "theta\n"
      ],
      "metadata": {
        "colab": {
          "base_uri": "https://localhost:8080/"
        },
        "id": "K0qkwv7UEPf_",
        "outputId": "000c3eb4-e6b1-429b-ddc7-a5266d241c6d"
      },
      "execution_count": 170,
      "outputs": [
        {
          "output_type": "execute_result",
          "data": {
            "text/plain": [
              "array([[0.01057406],\n",
              "       [0.24962389],\n",
              "       [0.17115229],\n",
              "       [0.39983746]])"
            ]
          },
          "metadata": {},
          "execution_count": 170
        }
      ]
    }
  ]
}