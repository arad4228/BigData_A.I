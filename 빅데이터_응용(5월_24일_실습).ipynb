{
  "cells": [
    {
      "cell_type": "markdown",
      "metadata": {
        "id": "view-in-github",
        "colab_type": "text"
      },
      "source": [
        "<a href=\"https://colab.research.google.com/github/arad4228/BigData_and_A.I/blob/main/%EB%B9%85%EB%8D%B0%EC%9D%B4%ED%84%B0_%EC%9D%91%EC%9A%A9(5%EC%9B%94_24%EC%9D%BC_%EC%8B%A4%EC%8A%B5).ipynb\" target=\"_parent\"><img src=\"https://colab.research.google.com/assets/colab-badge.svg\" alt=\"Open In Colab\"/></a>"
      ]
    },
    {
      "cell_type": "code",
      "execution_count": null,
      "metadata": {
        "id": "TNAwbkWuF0Dq"
      },
      "outputs": [],
      "source": [
        "from torch import nn\n",
        "import torch.nn.functional as F"
      ]
    },
    {
      "cell_type": "code",
      "execution_count": null,
      "metadata": {
        "id": "OGhXMvc6F7sJ"
      },
      "outputs": [],
      "source": [
        "class LeNet5( nn.Module ):\n",
        "  def __init__ (self):\n",
        "    super(LeNet5, self).__init__()\n",
        "\n",
        "    self.feature_extractor = nn.Sequential (\n",
        "        # Conv --> C1\n",
        "        nn.Conv2d (1, 6, kernel_size= 5, stride= 1),\n",
        "        # Tanh\n",
        "        nn.Tanh(),\n",
        "        # Pooling --> S1\n",
        "        nn.AvgPool2d(kernel_size = 2),\n",
        "        # Conv --> C2\n",
        "        nn.Conv2d (6, 16, kernel_size = 5, stride = 1),\n",
        "        # Tanh\n",
        "        nn.Tanh(),\n",
        "        # Pooling  --> S2\n",
        "        nn.AvgPool2d(kernel_size = 2),\n",
        "        # Conv --> C3\n",
        "        nn.Conv2d (16, 120, kernel_size= 5, stride = 1),\n",
        "        # Tanh\n",
        "        nn.Tanh()\n",
        "    )\n",
        "\n",
        "    self.classifier = nn.Sequential (\n",
        "        # F1\n",
        "        nn.Linear(120, 84),\n",
        "        nn.Tanh(),\n",
        "        # F2\n",
        "        nn.Linear(84, 10)\n",
        "    )\n",
        "  def forward (self, x):\n",
        "    x = self.feature_extractor (x)\n",
        "    x = torch.flatten(x, 1)\n",
        "    x = self.classifier(x)\n",
        "    return F.softmax(x, dim = 1)"
      ]
    },
    {
      "cell_type": "code",
      "execution_count": null,
      "metadata": {
        "id": "51SQZ1P1IWQj"
      },
      "outputs": [],
      "source": [
        "from torchvision import transforms\n",
        "from torchvision import datasets\n",
        "\n",
        "data_transform = transforms.Compose([\n",
        "                                     transforms.Resize((32, 32)),\n",
        "                                     transforms.ToTensor(),\n",
        "])\n",
        "\n",
        "datapath = '.'\n",
        "\n",
        "train_data = datasets.MNIST(datapath, train= True, download=True, transform=data_transform)"
      ]
    },
    {
      "cell_type": "code",
      "execution_count": null,
      "metadata": {
        "id": "ue5SQLmwJCWP"
      },
      "outputs": [],
      "source": [
        "RANDOM_SEED = 13\n",
        "LEARNING_RATE = 1e-4\n",
        "BATCH_SIZE = 32\n",
        "EPROCH = 20\n",
        "IMAGE_SIZE = 32"
      ]
    },
    {
      "cell_type": "code",
      "execution_count": null,
      "metadata": {
        "id": "lzTgfkEYLFr6"
      },
      "outputs": [],
      "source": [
        "from torch.utils.data  import DataLoader"
      ]
    },
    {
      "cell_type": "code",
      "execution_count": null,
      "metadata": {
        "id": "3AE3nT-aKIol"
      },
      "outputs": [],
      "source": [
        "train_loader = DataLoader(dataset = train_data, batch_size = BATCH_SIZE, shuffle = True)"
      ]
    },
    {
      "cell_type": "code",
      "execution_count": null,
      "metadata": {
        "id": "SyI7BtbLKbdv"
      },
      "outputs": [],
      "source": [
        "model = LeNet5().to('cpu')\n",
        "critertion = nn.CrossEntropyLoss()"
      ]
    },
    {
      "cell_type": "code",
      "execution_count": null,
      "metadata": {
        "id": "JSeO4YXpKvdf"
      },
      "outputs": [],
      "source": [
        "optimizer = torch.optim.Adam(model.parameters(), lr = LEARNING_RATE)"
      ]
    },
    {
      "cell_type": "code",
      "execution_count": null,
      "metadata": {
        "id": "e6Kj1CkGLzUx"
      },
      "outputs": [],
      "source": [
        "from torchsummary import summary"
      ]
    },
    {
      "cell_type": "code",
      "execution_count": null,
      "metadata": {
        "colab": {
          "background_save": true
        },
        "id": "69-s3EcHMNMI"
      },
      "outputs": [],
      "source": [
        "for epoch in range(0, EPROCH):\n",
        "  for x, y in train_loader:\n",
        "    optimizer.zero_grad ()\n",
        "\n",
        "    y = y.to('cpu')\n",
        "    y_pred = model (x)\n",
        "    loss = critertion (y_pred, y)\n",
        "\n",
        "    loss.backward()\n",
        "\n",
        "    optimizer.step ()\n",
        "    optimizer.zero_grad ()"
      ]
    },
    {
      "cell_type": "code",
      "execution_count": null,
      "metadata": {
        "id": "H1CWjb0ONwcd"
      },
      "outputs": [],
      "source": [
        ""
      ]
    }
  ],
  "metadata": {
    "colab": {
      "name": "빅데이터 응용(5월 24일 실습).ipynb",
      "provenance": [],
      "collapsed_sections": [],
      "authorship_tag": "ABX9TyPx3j49sKfoZVNXIgpC3MPO",
      "include_colab_link": true
    },
    "kernelspec": {
      "display_name": "Python 3",
      "name": "python3"
    },
    "language_info": {
      "name": "python"
    }
  },
  "nbformat": 4,
  "nbformat_minor": 0
}