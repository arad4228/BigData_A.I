{
  "nbformat": 4,
  "nbformat_minor": 0,
  "metadata": {
    "colab": {
      "name": "인공지능(5월 3일  실습).ipynb",
      "provenance": [],
      "authorship_tag": "ABX9TyMMyzPJnlvFe6Q6LSVFrCoW",
      "include_colab_link": true
    },
    "kernelspec": {
      "name": "python3",
      "display_name": "Python 3"
    },
    "language_info": {
      "name": "python"
    }
  },
  "cells": [
    {
      "cell_type": "markdown",
      "metadata": {
        "id": "view-in-github",
        "colab_type": "text"
      },
      "source": [
        "<a href=\"https://colab.research.google.com/github/arad4228/BigData_and_A.I/blob/main/%EC%9D%B8%EA%B3%B5%EC%A7%80%EB%8A%A5(5%EC%9B%94%203%EC%9D%BC%20%EC%8B%A4%EC%8A%B5).ipynb\" target=\"_parent\"><img src=\"https://colab.research.google.com/assets/colab-badge.svg\" alt=\"Open In Colab\"/></a>"
      ]
    },
    {
      "cell_type": "code",
      "execution_count": 1,
      "metadata": {
        "id": "sMFva2twOr2q"
      },
      "outputs": [],
      "source": [
        "import numpy as np"
      ]
    },
    {
      "cell_type": "code",
      "source": [
        "N, Din, Dout = 64, 4,2"
      ],
      "metadata": {
        "id": "MCzkUFESO0_F"
      },
      "execution_count": 2,
      "outputs": []
    },
    {
      "cell_type": "code",
      "source": [
        "x = np.random.randn(N, Din)\n",
        "y = np.random.randn(N, Dout)\n",
        "w = np.random.randn(Din, Dout)"
      ],
      "metadata": {
        "id": "KHL3OBRCO4Kt"
      },
      "execution_count": 3,
      "outputs": []
    },
    {
      "cell_type": "code",
      "source": [
        "lr = 1e-5\n",
        "loss_arr = []"
      ],
      "metadata": {
        "id": "b_g0OpVcPGmd"
      },
      "execution_count": 4,
      "outputs": []
    },
    {
      "cell_type": "code",
      "source": [
        "for t in range(5000):\n",
        "  y_pred = np.matmul(x,w)\n",
        "\n",
        "  loss = (0.5*(y_pred - y)**2).sum()\n",
        "  loss_arr.append(loss)\n",
        "\n",
        "  grad_y_pred = (y_pred - y)\n",
        "  grad_w = np.matmul(np.transpose(x),grad_y_pred)\n",
        "\n",
        "  w -= lr * grad_w"
      ],
      "metadata": {
        "id": "qP1QV47lPKoV"
      },
      "execution_count": 7,
      "outputs": []
    },
    {
      "cell_type": "code",
      "source": [
        "import matplotlib.pyplot as plt\n",
        "\n",
        "plt.plot(loss_arr)"
      ],
      "metadata": {
        "colab": {
          "base_uri": "https://localhost:8080/",
          "height": 283
        },
        "id": "1K4tfY3zPmPh",
        "outputId": "45e98630-6d27-41f7-8326-bbbad973028d"
      },
      "execution_count": 8,
      "outputs": [
        {
          "output_type": "execute_result",
          "data": {
            "text/plain": [
              "[<matplotlib.lines.Line2D at 0x7f9ddf108c10>]"
            ]
          },
          "metadata": {},
          "execution_count": 8
        },
        {
          "output_type": "display_data",
          "data": {
            "text/plain": [
              "<Figure size 432x288 with 1 Axes>"
            ],
            "image/png": "[encoded data removed]"
          },
          "metadata": {
            "needs_background": "light"
          }
        }
      ]
    },
    {
      "cell_type": "code",
      "source": [
        ""
      ],
      "metadata": {
        "id": "71snrpSFQAqo"
      },
      "execution_count": null,
      "outputs": []
    }
  ]
}