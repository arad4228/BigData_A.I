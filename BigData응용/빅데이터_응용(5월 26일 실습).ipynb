{
  "nbformat": 4,
  "nbformat_minor": 0,
  "metadata": {
    "colab": {
      "name": "빅데이터 응용(5월 26일 실습).ipynb",
      "provenance": [],
      "collapsed_sections": [],
      "authorship_tag": "ABX9TyOPyTgoM8z+UtAAiyY7b4JY",
      "include_colab_link": true
    },
    "kernelspec": {
      "name": "python3",
      "display_name": "Python 3"
    },
    "language_info": {
      "name": "python"
    }
  },
  "cells": [
    {
      "cell_type": "markdown",
      "metadata": {
        "id": "view-in-github",
        "colab_type": "text"
      },
      "source": [
        "<a href=\"https://colab.research.google.com/github/arad4228/BigData_and_A.I/blob/main/%EB%B9%85%EB%8D%B0%EC%9D%B4%ED%84%B0_%EC%9D%91%EC%9A%A9(5%EC%9B%94_26%EC%9D%BC_%EC%8B%A4%EC%8A%B5).ipynb\" target=\"_parent\"><img src=\"https://colab.research.google.com/assets/colab-badge.svg\" alt=\"Open In Colab\"/></a>"
      ]
    },
    {
      "cell_type": "code",
      "execution_count": 28,
      "metadata": {
        "id": "f4Wc_1lz5YNA",
        "colab": {
          "base_uri": "https://localhost:8080/"
        },
        "outputId": "d99a4f13-047c-4a87-90e7-c3a81f59be9e"
      },
      "outputs": [
        {
          "output_type": "stream",
          "name": "stdout",
          "text": [
            "['DESCR', 'data', 'data_module', 'feature_names', 'filename', 'frame', 'target', 'target_names']\n"
          ]
        }
      ],
      "source": [
        "from sklearn.datasets import load_iris\n",
        "\n",
        "idata = load_iris()\n",
        "\n",
        "print(dir(idata))"
      ]
    },
    {
      "cell_type": "code",
      "source": [
        "from matplotlib import pyplot as plt\n",
        "import numpy\n",
        "\n",
        "X = idata.data\n",
        "y = idata.target\n",
        "n = X.shape[0]\n",
        "w = X[:,0]\n",
        "x = X[:,1]\n",
        "y = X[:,2]\n",
        "z = X[:,3]"
      ],
      "metadata": {
        "id": "75YEDz9ZCa9O"
      },
      "execution_count": 29,
      "outputs": []
    },
    {
      "cell_type": "code",
      "source": [
        "plt.scatter(w, x, alpha = 0.5)\n",
        "plt.xlabel('sepal length(cm)')\n",
        "plt.ylabel('sepal width(cm)')\n",
        "plt.show()\n",
        "\n",
        "plt.scatter(y,z, alpha = 0.5)\n",
        "plt.xlabel('petal length(cm)')\n",
        "plt.ylabel('petal width(cm)')\n",
        "plt.show()"
      ],
      "metadata": {
        "colab": {
          "base_uri": "https://localhost:8080/",
          "height": 544
        },
        "id": "C6LsE9TrDDTQ",
        "outputId": "9eaf6715-94b9-4b35-e1ca-76a6f5538d89"
      },
      "execution_count": 30,
      "outputs": [
        {
          "output_type": "display_data",
          "data": {
            "text/plain": [
              "<Figure size 432x288 with 1 Axes>"
            ],
            "image/png": "[encoded data removed]"
          },
          "metadata": {
            "needs_background": "light"
          }
        },
        {
          "output_type": "display_data",
          "data": {
            "text/plain": [
              "<Figure size 432x288 with 1 Axes>"
            ],
            "image/png": "[encoded data removed]"
          },
          "metadata": {
            "needs_background": "light"
          }
        }
      ]
    },
    {
      "cell_type": "markdown",
      "source": [
        "pick K random points as centroids"
      ],
      "metadata": {
        "id": "MYGoAgAME9_K"
      }
    },
    {
      "cell_type": "code",
      "source": [
        "import numpy as np\n",
        "k = 3\n",
        "\n",
        "centroids_w = np.random.uniform(min(w), max(w), k)\n",
        "centroids_x = np.random.uniform(min(x), max(x), k)\n",
        "centroids_y = np.random.uniform(min(y), max(y), k)\n",
        "centroids_z = np.random.uniform(min(z), max(z), k)\n",
        "centroids = list(zip(centroids_w, centroids_x, centroids_y, centroids_z))\n",
        "centroids = np.array(centroids)\n",
        "print(centroids)"
      ],
      "metadata": {
        "colab": {
          "base_uri": "https://localhost:8080/"
        },
        "id": "4MDP2yx8ENS1",
        "outputId": "09649c64-1782-4ff0-b42d-9e91aa998953"
      },
      "execution_count": 31,
      "outputs": [
        {
          "output_type": "stream",
          "name": "stdout",
          "text": [
            "[[4.83783709 4.252538   4.8878582  1.42509008]\n",
            " [5.07701231 2.63177318 4.53172197 0.45513582]\n",
            " [6.39395522 3.23308221 3.51062115 2.01903761]]\n"
          ]
        }
      ]
    },
    {
      "cell_type": "markdown",
      "source": [
        "기초 거리함수"
      ],
      "metadata": {
        "id": "9Nt5uwlbFB-b"
      }
    },
    {
      "cell_type": "code",
      "source": [
        "def distance(a,b):\n",
        "  alen = len(a)\n",
        "  sum = 0\n",
        "  for aidx in range(alen):\n",
        "    sum += (a[aidx] - b[aidx])**2\n",
        "  return sum**0.5"
      ],
      "metadata": {
        "id": "insis8bME4eS"
      },
      "execution_count": 32,
      "outputs": []
    },
    {
      "cell_type": "markdown",
      "source": [
        "초기화"
      ],
      "metadata": {
        "id": "dualiuxxFwO5"
      }
    },
    {
      "cell_type": "code",
      "source": [
        "from copy import deepcopy\n",
        "\n",
        "labels = np.zeros(n)\n",
        "points = np.array(list(zip(w, x, y, z)))\n",
        "\n",
        "centroids_old = np.zeros(centroids.shape)\n",
        "error = np.zeros(k)\n",
        "error_old = deepcopy(error)"
      ],
      "metadata": {
        "id": "DtSZ_wDIFD_5"
      },
      "execution_count": 33,
      "outputs": []
    },
    {
      "cell_type": "markdown",
      "source": [
        "기본구조"
      ],
      "metadata": {
        "id": "1dF1ATfoFy9h"
      }
    },
    {
      "cell_type": "code",
      "source": [
        "# Error 초기화\n",
        "for i in range(k):\n",
        "  error[i] = distance(centroids_old[i], centroids[i])\n",
        "\n",
        "idx = 0\n",
        "\n",
        "while( error.any() != 0):\n",
        "  #(2) 가장 가까운 centroid로 point를 clustering\n",
        "  for i in range(n):\n",
        "    distances = np.zeros(k)\n",
        "    for j in range(k):\n",
        "      distances[j] = distance(points[i], centroids[j])\n",
        "    labels[i] = np.argmin(distances)\n",
        "\n",
        "  #(3) 새로운 centroid를 계산\n",
        "  centroids_old = deepcopy(centroids)\n",
        "  for i in range(k):\n",
        "    point = []\n",
        "    for j in range(n):\n",
        "      if(labels[j] == i):\n",
        "        point.append(points[j])\n",
        "    centroids[i] = np.mean(point, axis=0)\n",
        "\n",
        "  error_old = error\n",
        "  for j in range(k):\n",
        "    error[j] = distance(centroids_old[j], centroids[j])\n",
        "\n",
        "  print(idx, \"times error:\", error)\n",
        "  idx +=1"
      ],
      "metadata": {
        "colab": {
          "base_uri": "https://localhost:8080/"
        },
        "id": "n1FPyx1VFui5",
        "outputId": "07231cad-bdb1-4735-cd11-ab6b2016f5aa"
      },
      "execution_count": 34,
      "outputs": [
        {
          "output_type": "stream",
          "name": "stdout",
          "text": [
            "0 times error: [2.09363654 1.33587057 0.87766976]\n",
            "1 times error: [0.64511048 1.56839888 0.63465055]\n",
            "2 times error: [0.23399746 0.46078816 0.20490442]\n",
            "3 times error: [0.03341124 0.08115549 0.04527571]\n",
            "4 times error: [0. 0. 0.]\n"
          ]
        }
      ]
    },
    {
      "cell_type": "markdown",
      "source": [
        "skleanrn"
      ],
      "metadata": {
        "id": "6QeiLg6QK839"
      }
    },
    {
      "cell_type": "code",
      "source": [
        "from sklearn.cluster import KMeans\n",
        "\n",
        "model = KMeans(n_clusters=3)\n",
        "model.fit(points)\n",
        "\n",
        "print(idata.target)\n",
        "print(model.labels_)\n",
        "\n",
        "cnt = 0\n",
        "\n",
        "for i in range(len(idata.target)):\n",
        "  cnt += (idata.target[i] == model.labels_[i])\n",
        "\n",
        "print(cnt/len(labels))"
      ],
      "metadata": {
        "colab": {
          "base_uri": "https://localhost:8080/"
        },
        "id": "vDNXK1f9GrE9",
        "outputId": "67d792d1-f15d-4da1-877a-430fb2a47a8d"
      },
      "execution_count": 48,
      "outputs": [
        {
          "output_type": "stream",
          "name": "stdout",
          "text": [
            "[0 0 0 0 0 0 0 0 0 0 0 0 0 0 0 0 0 0 0 0 0 0 0 0 0 0 0 0 0 0 0 0 0 0 0 0 0\n",
            " 0 0 0 0 0 0 0 0 0 0 0 0 0 1 1 1 1 1 1 1 1 1 1 1 1 1 1 1 1 1 1 1 1 1 1 1 1\n",
            " 1 1 1 1 1 1 1 1 1 1 1 1 1 1 1 1 1 1 1 1 1 1 1 1 1 1 2 2 2 2 2 2 2 2 2 2 2\n",
            " 2 2 2 2 2 2 2 2 2 2 2 2 2 2 2 2 2 2 2 2 2 2 2 2 2 2 2 2 2 2 2 2 2 2 2 2 2\n",
            " 2 2]\n",
            "[0 0 0 0 0 0 0 0 0 0 0 0 0 0 0 0 0 0 0 0 0 0 0 0 0 0 0 0 0 0 0 0 0 0 0 0 0\n",
            " 0 0 0 0 0 0 0 0 0 0 0 0 0 1 1 2 1 1 1 1 1 1 1 1 1 1 1 1 1 1 1 1 1 1 1 1 1\n",
            " 1 1 1 2 1 1 1 1 1 1 1 1 1 1 1 1 1 1 1 1 1 1 1 1 1 1 2 1 2 2 2 2 1 2 2 2 2\n",
            " 2 2 1 1 2 2 2 2 1 2 1 2 1 2 2 1 1 2 2 2 2 2 1 2 2 2 2 1 2 2 2 1 2 2 2 1 2\n",
            " 2 1]\n",
            "0.8933333333333333\n"
          ]
        }
      ]
    },
    {
      "cell_type": "code",
      "source": [
        ""
      ],
      "metadata": {
        "id": "QcIGhc0CLHJi"
      },
      "execution_count": null,
      "outputs": []
    }
  ]
}