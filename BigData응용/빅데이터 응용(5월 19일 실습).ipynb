{
  "nbformat": 4,
  "nbformat_minor": 0,
  "metadata": {
    "colab": {
      "name": "빅데이터 응용(5월 19일 실습).ipynb",
      "provenance": [],
      "collapsed_sections": [],
      "authorship_tag": "ABX9TyNoskPstWqecZ2cuxwJo2Hd",
      "include_colab_link": true
    },
    "kernelspec": {
      "name": "python3",
      "display_name": "Python 3"
    },
    "language_info": {
      "name": "python"
    }
  },
  "cells": [
    {
      "cell_type": "markdown",
      "metadata": {
        "id": "view-in-github",
        "colab_type": "text"
      },
      "source": [
        "<a href=\"https://colab.research.google.com/github/arad4228/BigData_and_A.I/blob/main/%EB%B9%85%EB%8D%B0%EC%9D%B4%ED%84%B0%20%EC%9D%91%EC%9A%A9(5%EC%9B%94%2019%EC%9D%BC%20%EC%8B%A4%EC%8A%B5).ipynb\" target=\"_parent\"><img src=\"https://colab.research.google.com/assets/colab-badge.svg\" alt=\"Open In Colab\"/></a>"
      ]
    },
    {
      "cell_type": "markdown",
      "source": [
        "# AdaBoost"
      ],
      "metadata": {
        "id": "dhJbx4eZHmcV"
      }
    },
    {
      "cell_type": "code",
      "execution_count": null,
      "metadata": {
        "colab": {
          "base_uri": "https://localhost:8080/"
        },
        "id": "Pqteg4BtBGbU",
        "outputId": "52acfd94-ee6e-4577-d4cf-8810135eb2b2"
      },
      "outputs": [
        {
          "output_type": "stream",
          "name": "stdout",
          "text": [
            "['DESCR', 'data', 'data_module', 'feature_names', 'filename', 'frame', 'target', 'target_names']\n",
            "(569, 30)\n",
            "['mean radius' 'mean texture' 'mean perimeter' 'mean area'\n",
            " 'mean smoothness' 'mean compactness' 'mean concavity'\n",
            " 'mean concave points' 'mean symmetry' 'mean fractal dimension'\n",
            " 'radius error' 'texture error' 'perimeter error' 'area error'\n",
            " 'smoothness error' 'compactness error' 'concavity error'\n",
            " 'concave points error' 'symmetry error' 'fractal dimension error'\n",
            " 'worst radius' 'worst texture' 'worst perimeter' 'worst area'\n",
            " 'worst smoothness' 'worst compactness' 'worst concavity'\n",
            " 'worst concave points' 'worst symmetry' 'worst fractal dimension']\n",
            "breast_cancer.csv\n",
            "[0 0 0 0 0 0 0 0 0 0 0 0 0 0 0 0 0 0 0 1 1 1 0 0 0 0 0 0 0 0 0 0 0 0 0 0 0\n",
            " 1 0 0 0 0 0 0 0 0 1 0 1 1 1 1 1 0 0 1 0 0 1 1 1 1 0 1 0 0 1 1 1 1 0 1 0 0\n",
            " 1 0 1 0 0 1 1 1 0 0 1 0 0 0 1 1 1 0 1 1 0 0 1 1 1 0 0 1 1 1 1 0 1 1 0 1 1\n",
            " 1 1 1 1 1 1 0 0 0 1 0 0 1 1 1 0 0 1 0 1 0 0 1 0 0 1 1 0 1 1 0 1 1 1 1 0 1\n",
            " 1 1 1 1 1 1 1 1 0 1 1 1 1 0 0 1 0 1 1 0 0 1 1 0 0 1 1 1 1 0 1 1 0 0 0 1 0\n",
            " 1 0 1 1 1 0 1 1 0 0 1 0 0 0 0 1 0 0 0 1 0 1 0 1 1 0 1 0 0 0 0 1 1 0 0 1 1\n",
            " 1 0 1 1 1 1 1 0 0 1 1 0 1 1 0 0 1 0 1 1 1 1 0 1 1 1 1 1 0 1 0 0 0 0 0 0 0\n",
            " 0 0 0 0 0 0 0 1 1 1 1 1 1 0 1 0 1 1 0 1 1 0 1 0 0 1 1 1 1 1 1 1 1 1 1 1 1\n",
            " 1 0 1 1 0 1 0 1 1 1 1 1 1 1 1 1 1 1 1 1 1 0 1 1 1 0 1 0 1 1 1 1 0 0 0 1 1\n",
            " 1 1 0 1 0 1 0 1 1 1 0 1 1 1 1 1 1 1 0 0 0 1 1 1 1 1 1 1 1 1 1 1 0 0 1 0 0\n",
            " 0 1 0 0 1 1 1 1 1 0 1 1 1 1 1 0 1 1 1 0 1 1 0 0 1 1 1 1 1 1 0 1 1 1 1 1 1\n",
            " 1 0 1 1 1 1 1 0 1 1 0 1 1 1 1 1 1 1 1 1 1 1 1 0 1 0 0 1 0 1 1 1 1 1 0 1 1\n",
            " 0 1 0 1 1 0 1 0 1 1 1 1 1 1 1 1 0 0 1 1 1 1 1 1 0 1 1 1 1 1 1 1 1 1 1 0 1\n",
            " 1 1 1 1 1 1 0 1 0 1 1 0 1 1 1 1 1 0 0 1 0 1 0 1 1 1 1 1 0 1 1 0 1 0 1 0 0\n",
            " 1 1 1 0 1 1 1 1 1 1 1 1 1 1 1 0 1 0 0 1 1 1 1 1 1 1 1 1 1 1 1 1 1 1 1 1 1\n",
            " 1 1 1 1 1 1 1 0 0 0 0 0 0 1]\n",
            "['malignant' 'benign']\n"
          ]
        }
      ],
      "source": [
        "from sklearn.datasets import load_breast_cancer\n",
        "from sklearn.model_selection import train_test_split\n",
        "from sklearn.tree import DecisionTreeClassifier\n",
        "import matplotlib as plt\n",
        "\n",
        "cdata = load_breast_cancer()\n",
        "\n",
        "print(dir(cdata))\n",
        "print(cdata.data.shape)\n",
        "print(cdata.feature_names)\n",
        "print(cdata.filename)\n",
        "print(cdata.target)\n",
        "print(cdata.target_names)"
      ]
    },
    {
      "cell_type": "code",
      "source": [
        "import numpy\n",
        "X = cdata.data\n",
        "X = X.astype(float)\n",
        "y = numpy.where(cdata.target == 0, -1, 1)\n",
        "print(X.shape)\n",
        "print(y.shape)\n",
        "\n",
        "trainX, testX, trainy, testy = train_test_split(X,y,test_size = 0.3, random_state =1)\n",
        "print(trainX.shape)\n",
        "print(testX.shape)"
      ],
      "metadata": {
        "colab": {
          "base_uri": "https://localhost:8080/"
        },
        "id": "OylKimioBVPe",
        "outputId": "ab6ab0fe-a1a8-4837-fef6-b4d837ec37a0"
      },
      "execution_count": null,
      "outputs": [
        {
          "output_type": "stream",
          "name": "stdout",
          "text": [
            "(569, 30)\n",
            "(569,)\n",
            "(398, 30)\n",
            "(171, 30)\n"
          ]
        }
      ]
    },
    {
      "cell_type": "markdown",
      "source": [
        "# AdaBoost -> 필요함수(1) Compute error"
      ],
      "metadata": {
        "id": "okgg_LqVDgNV"
      }
    },
    {
      "cell_type": "code",
      "source": [
        "def compute_error(y, y_pred, w_j):\n",
        "  return (numpy.sum((w_j * numpy.not_equal(y, y_pred)), axis = -1).astype(int)) / numpy.sum(w_j)"
      ],
      "metadata": {
        "id": "SA-J-dZPCQSx"
      },
      "execution_count": null,
      "outputs": []
    },
    {
      "cell_type": "markdown",
      "source": [
        "# AdaBoost -> 필요함수(2) Compute alpha"
      ],
      "metadata": {
        "id": "wzmWvgoeDmkp"
      }
    },
    {
      "cell_type": "code",
      "source": [
        "def compute_alpha(error):\n",
        "  return 0.5*numpy.log((1-error+1e-6)/(error+1e-6))"
      ],
      "metadata": {
        "id": "dzRB41rKDcX1"
      },
      "execution_count": null,
      "outputs": []
    },
    {
      "cell_type": "markdown",
      "source": [
        "# AdaBoost -> 필요함수(3) update weight"
      ],
      "metadata": {
        "id": "U2bSUz-SEOHq"
      }
    },
    {
      "cell_type": "code",
      "source": [
        "def update_weights(w_j, alpha, y, y_pred):\n",
        "  w_j_updated = numpy.where(numpy.not_equal(y,y_pred),\n",
        "                            w_j * numpy.exp(alpha * (numpy.not_equal(y, y_pred))),\n",
        "                            w_j * numpy.exp(-alpha * (numpy.not_equal(y, y_pred))))\n",
        "            \n",
        "  w_j_updated = w_j_updated / numpy.sum(w_j_updated)\n",
        "  return w_j_updated"
      ],
      "metadata": {
        "id": "BHvfI0KcEE4O"
      },
      "execution_count": null,
      "outputs": []
    },
    {
      "cell_type": "code",
      "source": [
        "class AdaBoost:\n",
        "\n",
        "  def __init__(self):\n",
        "    self.alphas = []\n",
        "    self.slearner = []\n",
        "    self.M = None\n",
        "    self.training_errors = []\n",
        "    self.prediction_errors = []\n",
        "\n",
        "  def fit(self, X, y, M = 100):\n",
        "    self.M = M\n",
        "    # W_j 초기화 --> W_j: tensor --> (1,1,1,...1)\n",
        "    w_j = numpy.array(numpy.ones(len(y)))/ len(y)\n",
        "    for m in range(0,M):\n",
        "      # 1. weak learner을 훈련\n",
        "      wlearner = DecisionTreeClassifier(max_depth = 1)\n",
        "      wlearner.fit(X, y, sample_weight = w_j)\n",
        "\n",
        "      y_pred = wlearner.predict(X)\n",
        "\n",
        "      self.slearner.append(wlearner)\n",
        "\n",
        "      # 2. error계산\n",
        "      error_m = compute_error(y, y_pred, w_j)\n",
        "      self.training_errors.append(error_m)\n",
        "\n",
        "      # 3. alpha계산\n",
        "      alpha_m = compute_alpha(error_m)\n",
        "      self.alphas.append(alpha_m)\n",
        "\n",
        "      # 4. w_j를 update\n",
        "      w_j = update_weights(w_j, alpha_m , y, y_pred)\n",
        "\n",
        "\n",
        "  def predict (self, X):\n",
        "    weak_preds = numpy.zeros(shape=(X.shape[0], len(self.slearner)))\n",
        "\n",
        "    for i, m in enumerate(range(self.M)):\n",
        "      y_pred_m = self.slearner[m].predict(X).astype(float) * self.alphas[m]\n",
        "      weak_preds[:, m] = y_pred_m\n",
        "    y_pred = numpy.sign(numpy.sum(weak_preds, axis =-1))\n",
        "    return y_pred\n"
      ],
      "metadata": {
        "id": "DJSvVxU0FMDW"
      },
      "execution_count": null,
      "outputs": []
    },
    {
      "cell_type": "code",
      "source": [
        "len_wlearner = 100\n",
        "ada = AdaBoost()\n",
        "ada.fit(trainX, trainy, M= len_wlearner)\n",
        "y_pred = ada.predict(testX)\n",
        "\n",
        "accuracy = (y_pred == testy).sum()/ len(testy)\n",
        "print(accuracy)"
      ],
      "metadata": {
        "colab": {
          "base_uri": "https://localhost:8080/"
        },
        "id": "vhd-lsNpJTWO",
        "outputId": "4169af5b-32b2-4307-96c5-147f13297c0b"
      },
      "execution_count": null,
      "outputs": [
        {
          "output_type": "stream",
          "name": "stdout",
          "text": [
            "0.9298245614035088\n"
          ]
        }
      ]
    },
    {
      "cell_type": "code",
      "source": [
        "from sklearn.ensemble import AdaBoostClassifier\n",
        "from sklearn.tree import DecisionTreeClassifier\n",
        "from sklearn.metrics import accuracy_score\n",
        "\n",
        "tree_model = DecisionTreeClassifier(max_depth = 1)\n",
        "ada = AdaBoostClassifier(base_estimator=tree_model, n_estimators=1000, random_state = 0)\n",
        "ada.fit(trainX,trainy)\n",
        "pred = ada.predict(testX)\n",
        "print(accuracy_score(testy,pred))\n"
      ],
      "metadata": {
        "colab": {
          "base_uri": "https://localhost:8080/"
        },
        "id": "J7hGqookJp0n",
        "outputId": "171c235d-bd9d-42c1-e086-7ee0d359b805"
      },
      "execution_count": null,
      "outputs": [
        {
          "output_type": "stream",
          "name": "stdout",
          "text": [
            "0.9766081871345029\n"
          ]
        }
      ]
    },
    {
      "cell_type": "markdown",
      "source": [
        "# GradientBoost\n"
      ],
      "metadata": {
        "id": "XAJhUmgXHhjv"
      }
    },
    {
      "cell_type": "code",
      "source": [
        "from sklearn.datasets import load_diabetes\n",
        "ddata = load_diabetes()\n",
        "\n",
        "print(dir(ddata))\n",
        "print(ddata.data.shape)\n",
        "print(ddata.feature_names)\n",
        "print(ddata.target)"
      ],
      "metadata": {
        "colab": {
          "base_uri": "https://localhost:8080/"
        },
        "id": "cq8-Umr-PZ2Z",
        "outputId": "6f8cdda5-02cb-4922-d80c-f856a7517a65"
      },
      "execution_count": null,
      "outputs": [
        {
          "output_type": "stream",
          "name": "stdout",
          "text": [
            "['DESCR', 'data', 'data_filename', 'data_module', 'feature_names', 'frame', 'target', 'target_filename']\n",
            "(442, 10)\n",
            "['age', 'sex', 'bmi', 'bp', 's1', 's2', 's3', 's4', 's5', 's6']\n",
            "[151.  75. 141. 206. 135.  97. 138.  63. 110. 310. 101.  69. 179. 185.\n",
            " 118. 171. 166. 144.  97. 168.  68.  49.  68. 245. 184. 202. 137.  85.\n",
            " 131. 283. 129.  59. 341.  87.  65. 102. 265. 276. 252.  90. 100.  55.\n",
            "  61.  92. 259.  53. 190. 142.  75. 142. 155. 225.  59. 104. 182. 128.\n",
            "  52.  37. 170. 170.  61. 144.  52. 128.  71. 163. 150.  97. 160. 178.\n",
            "  48. 270. 202. 111.  85.  42. 170. 200. 252. 113. 143.  51.  52. 210.\n",
            "  65. 141.  55. 134.  42. 111.  98. 164.  48.  96.  90. 162. 150. 279.\n",
            "  92.  83. 128. 102. 302. 198.  95.  53. 134. 144. 232.  81. 104.  59.\n",
            " 246. 297. 258. 229. 275. 281. 179. 200. 200. 173. 180.  84. 121. 161.\n",
            "  99. 109. 115. 268. 274. 158. 107.  83. 103. 272.  85. 280. 336. 281.\n",
            " 118. 317. 235.  60. 174. 259. 178. 128.  96. 126. 288.  88. 292.  71.\n",
            " 197. 186.  25.  84.  96. 195.  53. 217. 172. 131. 214.  59.  70. 220.\n",
            " 268. 152.  47.  74. 295. 101. 151. 127. 237. 225.  81. 151. 107.  64.\n",
            " 138. 185. 265. 101. 137. 143. 141.  79. 292. 178.  91. 116.  86. 122.\n",
            "  72. 129. 142.  90. 158.  39. 196. 222. 277.  99. 196. 202. 155.  77.\n",
            " 191.  70.  73.  49.  65. 263. 248. 296. 214. 185.  78.  93. 252. 150.\n",
            "  77. 208.  77. 108. 160.  53. 220. 154. 259.  90. 246. 124.  67.  72.\n",
            " 257. 262. 275. 177.  71.  47. 187. 125.  78.  51. 258. 215. 303. 243.\n",
            "  91. 150. 310. 153. 346.  63.  89.  50.  39. 103. 308. 116. 145.  74.\n",
            "  45. 115. 264.  87. 202. 127. 182. 241.  66.  94. 283.  64. 102. 200.\n",
            " 265.  94. 230. 181. 156. 233.  60. 219.  80.  68. 332. 248.  84. 200.\n",
            "  55.  85.  89.  31. 129.  83. 275.  65. 198. 236. 253. 124.  44. 172.\n",
            " 114. 142. 109. 180. 144. 163. 147.  97. 220. 190. 109. 191. 122. 230.\n",
            " 242. 248. 249. 192. 131. 237.  78. 135. 244. 199. 270. 164.  72.  96.\n",
            " 306.  91. 214.  95. 216. 263. 178. 113. 200. 139. 139.  88. 148.  88.\n",
            " 243.  71.  77. 109. 272.  60.  54. 221.  90. 311. 281. 182. 321.  58.\n",
            " 262. 206. 233. 242. 123. 167.  63. 197.  71. 168. 140. 217. 121. 235.\n",
            " 245.  40.  52. 104. 132.  88.  69. 219.  72. 201. 110.  51. 277.  63.\n",
            " 118.  69. 273. 258.  43. 198. 242. 232. 175.  93. 168. 275. 293. 281.\n",
            "  72. 140. 189. 181. 209. 136. 261. 113. 131. 174. 257.  55.  84.  42.\n",
            " 146. 212. 233.  91. 111. 152. 120.  67. 310.  94. 183.  66. 173.  72.\n",
            "  49.  64.  48. 178. 104. 132. 220.  57.]\n"
          ]
        }
      ]
    },
    {
      "cell_type": "markdown",
      "source": [
        "GradientBoost -> Data 구축"
      ],
      "metadata": {
        "id": "ShgKPCuhTAuA"
      }
    },
    {
      "cell_type": "code",
      "source": [
        "X = ddata.data\n",
        "y = ddata.target\n",
        "print(X.shape)\n",
        "trainX, testX, trainy, testy = train_test_split(X, y, test_size=0.2, random_state=1)"
      ],
      "metadata": {
        "colab": {
          "base_uri": "https://localhost:8080/"
        },
        "id": "6bY2mcwXSazd",
        "outputId": "22688bc0-d734-495d-e480-ebac37a1b534"
      },
      "execution_count": null,
      "outputs": [
        {
          "output_type": "stream",
          "name": "stdout",
          "text": [
            "(442, 10)\n"
          ]
        }
      ]
    },
    {
      "cell_type": "markdown",
      "source": [
        "GradientBoost -> GradientBoost class 정의"
      ],
      "metadata": {
        "id": "RwMlqZBgTGmf"
      }
    },
    {
      "cell_type": "code",
      "source": [
        "from sklearn.tree import DecisionTreeRegressor\n",
        "\n",
        "class GradientBoost:\n",
        "\n",
        "  def __init__(self, learning_rate, n_estimators, max_depth = 1):\n",
        "    self.learning_rate = learning_rate\n",
        "    self.n_estimators = n_estimators\n",
        "    self.max_depth = max_depth\n",
        "    self.trees = []\n",
        "\n",
        "  def fit(self, X, y):\n",
        "    # 1. base classifer --> 평균\n",
        "    self.f0 = y.mean()\n",
        "    f_hat = self.f0\n",
        "\n",
        "    for _ in range(self.n_estimators):\n",
        "      # 1. residual 계산\n",
        "      r = y - f_hat\n",
        "\n",
        "      # 2. modify classifier 계산\n",
        "      tree = DecisionTreeRegressor(max_depth =self.max_depth, random_state = 11)\n",
        "      tree.fit(X,r)\n",
        "\n",
        "      # 3. h_m\n",
        "      h_m = tree.predict(X)\n",
        "\n",
        "      # 4. f_hat에 추가\n",
        "      f_hat += self.learning_rate * h_m\n",
        "      self.trees.append(tree)\n",
        "    \n",
        "  def predict(self, X):\n",
        "\n",
        "      f_hat = self.f0\n",
        "\n",
        "      for m in range(self.n_estimators):\n",
        "        f_hat += self.learning_rate * self.trees[m].predict(X)\n",
        "      \n",
        "      return f_hat"
      ],
      "metadata": {
        "id": "fYX6pcxcS5ib"
      },
      "execution_count": null,
      "outputs": []
    },
    {
      "cell_type": "code",
      "source": [
        "from sklearn.metrics import mean_squared_error\n",
        "\n",
        "gbm = GradientBoost(\n",
        "    n_estimators = 1000,\n",
        "    learning_rate=0.01,\n",
        "    max_depth=1\n",
        ")\n",
        "gbm.fit(trainX,trainy)\n",
        "pred = gbm.predict(testX)\n",
        "gbm_rmse = mean_squared_error(testy, pred, squared = False)\n",
        "print(f\"Custom GBM RMSE:{gbm_rmse:.15f}\")"
      ],
      "metadata": {
        "colab": {
          "base_uri": "https://localhost:8080/"
        },
        "id": "ZwefeWDzTSVv",
        "outputId": "3140ffd2-c4a9-4c97-de94-32eebd5429ff"
      },
      "execution_count": null,
      "outputs": [
        {
          "output_type": "stream",
          "name": "stdout",
          "text": [
            "Custom GBM RMSE:56.493210217949098\n"
          ]
        }
      ]
    },
    {
      "cell_type": "code",
      "source": [
        "from sklearn.ensemble import GradientBoostingRegressor\n",
        "from math import sqrt\n",
        "\n",
        "gbm2 = GradientBoostingRegressor(n_estimators=1000,random_state = 0)\n",
        "gbm2.fit(trainX,trainy)\n",
        "pred2 = gbm2.predict(testX)\n",
        "print(sqrt(mean_squared_error(pred2, testy)))"
      ],
      "metadata": {
        "colab": {
          "base_uri": "https://localhost:8080/"
        },
        "id": "XKqzoJq_V_eB",
        "outputId": "a5aab0a6-8b30-4df7-f908-37c9f71fb630"
      },
      "execution_count": null,
      "outputs": [
        {
          "output_type": "stream",
          "name": "stdout",
          "text": [
            "69.48209229736067\n"
          ]
        }
      ]
    },
    {
      "cell_type": "markdown",
      "source": [
        "# K-NN\n"
      ],
      "metadata": {
        "id": "A-QneyXPL_4C"
      }
    },
    {
      "cell_type": "code",
      "source": [
        "|from sklearn.datasets import load_iris\n",
        "\n",
        "idata = load_iris()\n",
        "\n",
        "print(dir(idata))\n",
        "print(idata.data.shape)\n",
        "print(idata.feature_names)\n",
        "print(idata.target_names)"
      ],
      "metadata": {
        "colab": {
          "base_uri": "https://localhost:8080/"
        },
        "id": "O6SBsP0SXci0",
        "outputId": "26ba25f9-1bc9-4ec8-d04b-575a0859728d"
      },
      "execution_count": null,
      "outputs": [
        {
          "output_type": "stream",
          "name": "stdout",
          "text": [
            "['DESCR', 'data', 'data_module', 'feature_names', 'filename', 'frame', 'target', 'target_names']\n",
            "(150, 4)\n",
            "['sepal length (cm)', 'sepal width (cm)', 'petal length (cm)', 'petal width (cm)']\n",
            "['setosa' 'versicolor' 'virginica']\n"
          ]
        }
      ]
    },
    {
      "cell_type": "code",
      "source": [
        "X = idata.data\n",
        "y = idata.target\n",
        "trainX, testX, trainy, testy = train_test_split(X, y, test_size=0.2, random_state = 1)\n",
        "print(trainX.shape)"
      ],
      "metadata": {
        "colab": {
          "base_uri": "https://localhost:8080/"
        },
        "id": "1Za0__qtaRu4",
        "outputId": "e90e9dc4-67eb-4bea-ab2d-9d4149b0f052"
      },
      "execution_count": null,
      "outputs": [
        {
          "output_type": "stream",
          "name": "stdout",
          "text": [
            "(120, 4)\n"
          ]
        }
      ]
    },
    {
      "cell_type": "code",
      "source": [
        "from sklearn.neighbors import KNeighborsClassifier\n",
        "from sklearn.metrics import accuracy_score\n",
        "\n",
        "knn = KNeighborsClassifier(n_neighbors=5)\n",
        "knn.fit(trainX, trainy)\n",
        "\n",
        "pred = knn.predict(testX)\n",
        "print(accuracy_score(testy, pred))"
      ],
      "metadata": {
        "colab": {
          "base_uri": "https://localhost:8080/"
        },
        "id": "s8aZyOaCaust",
        "outputId": "7b2bd81c-b9ac-41ea-e5f2-c4c4023a2933"
      },
      "execution_count": null,
      "outputs": [
        {
          "output_type": "stream",
          "name": "stdout",
          "text": [
            "1.0\n"
          ]
        }
      ]
    }
  ]
}